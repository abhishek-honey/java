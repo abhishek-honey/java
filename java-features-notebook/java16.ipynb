{
 "cells": [
  {
   "cell_type": "markdown",
   "metadata": {},
   "source": [
    "# Java 16 Features\n",
    "\n",
    "\n",
    "## JEPs targeted to JDK 16, so far\n",
    "* 347:\t__[Enable C++14 Language Features](https://openjdk.java.net/jeps/347)__\n",
    "* 357:\t__[Migrate from Mercurial to Git](https://openjdk.java.net/jeps/357)__\n",
    "* 369:\t__[Migrate to GitHub](https://openjdk.java.net/jeps/369)__"
   ]
  },
  {
   "cell_type": "code",
   "execution_count": null,
   "metadata": {},
   "outputs": [],
   "source": []
  }
 ],
 "metadata": {
  "kernelspec": {
   "display_name": "Java",
   "language": "java",
   "name": "java"
  },
  "language_info": {
   "codemirror_mode": "java",
   "file_extension": ".jshell",
   "mimetype": "text/x-java-source",
   "name": "Java",
   "pygments_lexer": "java",
   "version": "14.0.1+7"
  }
 },
 "nbformat": 4,
 "nbformat_minor": 4
}
