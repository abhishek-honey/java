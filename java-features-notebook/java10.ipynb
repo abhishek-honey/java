{
 "cells": [
  {
   "cell_type": "markdown",
   "metadata": {},
   "source": [
    "# Java 10 Features\n",
    "\n",
    "* 286: __[Local-Variable Type Inference](https://openjdk.java.net/jeps/286)__\n",
    "* 296: __[Consolidate the JDK Forest into a Single Repository](https://openjdk.java.net/jeps/296)__\n",
    "* 304: __[Garbage-Collector Interface](https://openjdk.java.net/jeps/304)__\n",
    "* 307: __[Parallel Full GC for G1](https://openjdk.java.net/jeps/307)__\n",
    "* 310: __[Application Class-Data Sharing](https://openjdk.java.net/jeps/310)__\n",
    "* 312: __[Thread-Local Handshakes](https://openjdk.java.net/jeps/312)__\n",
    "* 313: __[Remove the Native-Header Generation Tool (javah)](https://openjdk.java.net/jeps/313)__\n",
    "* 314: __[Additional Unicode Language-Tag Extensions](https://openjdk.java.net/jeps/314)__\n",
    "* 316: __[Heap Allocation on Alternative Memory Devices](https://openjdk.java.net/jeps/316)__\n",
    "* 317: __[Experimental Java-Based JIT Compiler](https://openjdk.java.net/jeps/317)__\n",
    "* 319: __[Root Certificates](https://openjdk.java.net/jeps/319)__\n",
    "* 322: __[Time-Based Release Versioning](https://openjdk.java.net/jeps/322)__"
   ]
  },
  {
   "cell_type": "code",
   "execution_count": null,
   "metadata": {},
   "outputs": [],
   "source": []
  }
 ],
 "metadata": {
  "kernelspec": {
   "display_name": "Java",
   "language": "java",
   "name": "java"
  },
  "language_info": {
   "codemirror_mode": "java",
   "file_extension": ".jshell",
   "mimetype": "text/x-java-source",
   "name": "Java",
   "pygments_lexer": "java",
   "version": "14.0.1+7"
  }
 },
 "nbformat": 4,
 "nbformat_minor": 4
}
