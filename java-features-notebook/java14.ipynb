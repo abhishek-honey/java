{
 "cells": [
  {
   "cell_type": "markdown",
   "metadata": {},
   "source": [
    "# Java 14 Features"
   ]
  },
  {
   "cell_type": "markdown",
   "metadata": {},
   "source": [
    "Features\n",
    "\n",
    "* 305:\t__[Pattern Matching for instanceof (Preview)](https://openjdk.java.net/jeps/305)__\n",
    "* 343:\t__[Packaging Tool (Incubator)](https://openjdk.java.net/jeps/343)__\n",
    "* 345:\t__[NUMA-Aware Memory Allocation for G1](https://openjdk.java.net/jeps/345)__\n",
    "* 349:\t__[JFR Event Streaming](https://openjdk.java.net/jeps/349)__\n",
    "* 352:\t__[Non-Volatile Mapped Byte Buffers](https://openjdk.java.net/jeps/352)__\n",
    "* 358:\t__[Helpful NullPointerExceptions](https://openjdk.java.net/jeps/358)__\n",
    "* 359:\t__[Records (Preview)](https://openjdk.java.net/jeps/359)__\n",
    "* 361:\t__[Switch Expressions (Standard)](https://openjdk.java.net/jeps/361)__\n",
    "* 362:\t__[Deprecate the Solaris and SPARC Ports](https://openjdk.java.net/jeps/362)__\n",
    "* 363:\t__[Remove the Concurrent Mark Sweep (CMS) Garbage Collector](https://openjdk.java.net/jeps/363)__\n",
    "* 364:\t__[ZGC on macOS](https://openjdk.java.net/jeps/364)__\n",
    "* 365:\t__[ZGC on Windows](https://openjdk.java.net/jeps/365)__\n",
    "* 366:\t__[Deprecate the ParallelScavenge + SerialOld GC Combination](https://openjdk.java.net/jeps/366)__\n",
    "* 367:\t__[Remove the Pack200 Tools and API](https://openjdk.java.net/jeps/367)__\n",
    "* 368:\t__[Text Blocks (Second Preview)](https://openjdk.java.net/jeps/368)__\n",
    "* 370:\t__[Foreign-Memory Access API (Incubator)](https://openjdk.java.net/jeps/370)__"
   ]
  },
  {
   "cell_type": "code",
   "execution_count": null,
   "metadata": {},
   "outputs": [],
   "source": [
    "var test = \"\"\"\n",
    "            hell o world!\n",
    "           \"\"\";"
   ]
  },
  {
   "cell_type": "code",
   "execution_count": null,
   "metadata": {},
   "outputs": [],
   "source": []
  }
 ],
 "metadata": {
  "kernelspec": {
   "display_name": "Java",
   "language": "java",
   "name": "java"
  },
  "language_info": {
   "codemirror_mode": "java",
   "file_extension": ".jshell",
   "mimetype": "text/x-java-source",
   "name": "Java",
   "pygments_lexer": "java",
   "version": "14.0.1+7"
  }
 },
 "nbformat": 4,
 "nbformat_minor": 4
}
