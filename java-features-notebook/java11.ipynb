{
 "cells": [
  {
   "cell_type": "markdown",
   "metadata": {},
   "source": [
    "# Java 11 Features\n",
    "\n",
    "* 181: __[Nest-Based Access Control](https://openjdk.java.net/jeps/181)__\n",
    "* 309: __[Dynamic Class-File Constants](https://openjdk.java.net/jeps/309)__\n",
    "* 315: __[Improve Aarch64 Intrinsics](https://openjdk.java.net/jeps/315)__\n",
    "* 318: __[Epsilon: A No-Op Garbage Collector](https://openjdk.java.net/jeps/318)__\n",
    "* 320: __[Remove the Java EE and CORBA Modules](https://openjdk.java.net/jeps/320)__\n",
    "* 321: __[HTTP Client (Standard)](https://openjdk.java.net/jeps/321)__\n",
    "* 323: __[Local-Variable Syntax for Lambda Parameters](https://openjdk.java.net/jeps/323)__\n",
    "* 324: __[Key Agreement with Curve25519 and Curve448](https://openjdk.java.net/jeps/324)__\n",
    "* 327: __[Unicode 10](https://openjdk.java.net/jeps/327)__\n",
    "* 328: __[Flight Recorder](https://openjdk.java.net/jeps/328)__\n",
    "* 329: __[ChaCha20 and Poly1305 Cryptographic Algorithms](https://openjdk.java.net/jeps/329)__\n",
    "* 330: __[Launch Single-File Source-Code Programs](https://openjdk.java.net/jeps/330)__\n",
    "* 331: __[Low-Overhead Heap Profiling](https://openjdk.java.net/jeps/331)__\n",
    "* 332: __[Transport Layer Security (TLS) 1.3](https://openjdk.java.net/jeps/332)__\n",
    "* 333: __[ZGC: A Scalable Low-Latency Garbage Collector (Experimental)](https://openjdk.java.net/jeps/333)__ \n",
    "* 335: __[Deprecate the Nashorn JavaScript Engine](https://openjdk.java.net/jeps/335)__\n",
    "* 336: __[Deprecate the Pack200 Tools and API](https://openjdk.java.net/jeps/336)__"
   ]
  },
  {
   "cell_type": "code",
   "execution_count": null,
   "metadata": {},
   "outputs": [],
   "source": []
  }
 ],
 "metadata": {
  "kernelspec": {
   "display_name": "Java",
   "language": "java",
   "name": "java"
  },
  "language_info": {
   "codemirror_mode": "java",
   "file_extension": ".jshell",
   "mimetype": "text/x-java-source",
   "name": "Java",
   "pygments_lexer": "java",
   "version": "14.0.1+7"
  }
 },
 "nbformat": 4,
 "nbformat_minor": 4
}
