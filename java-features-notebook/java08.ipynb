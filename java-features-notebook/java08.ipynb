{
 "cells": [
  {
   "cell_type": "markdown",
   "metadata": {},
   "source": [
    "## Resources\n",
    "* https://download.oracle.com/otndocs/jcp/lambda-0_9_3-fr-spec/index.html\n",
    "* https://www.oreilly.com/library/view/java-se-8/9780133430202/\n"
   ]
  },
  {
   "cell_type": "markdown",
   "metadata": {},
   "source": [
    "# Base class Human."
   ]
  },
  {
   "cell_type": "code",
   "execution_count": 1,
   "metadata": {},
   "outputs": [],
   "source": [
    "public class Humans {\n",
    "    private String car_model;\n",
    "    private String car_model_year;\n",
    "    private String gender;\n",
    "    private Integer age;\n",
    "    private String race;\n",
    "    private String city;\n",
    "    private String last_name;\n",
    "    private String ip_address;\n",
    "    private String skills;\n",
    "    private String password;\n",
    "    private String money;\n",
    "    private String id;\n",
    "    private String department;\n",
    "    private String first_name;\n",
    "    private String job_title;\n",
    "    private String email;\n",
    "    private String car_make;\n",
    "    public String getCar_model() {\n",
    "        return car_model;\n",
    "    }\n",
    "    public void setCar_model(String car_model) {\n",
    "        this.car_model = car_model;\n",
    "    }\n",
    "    public String getCar_model_year() {\n",
    "        return car_model_year;\n",
    "    }\n",
    "    public void setCar_model_year(String car_model_year) {\n",
    "        this.car_model_year = car_model_year;\n",
    "    }\n",
    "    public String getGender() {\n",
    "        return gender;\n",
    "    }\n",
    "    public void setGender(String gender) {\n",
    "        this.gender = gender;\n",
    "    }\n",
    "    public Integer getAge() {\n",
    "        return age;\n",
    "    }\n",
    "    public void setAge(Integer age) {\n",
    "        this.age = age;\n",
    "    }\n",
    "    public String getRace() {\n",
    "        return race;\n",
    "    }\n",
    "    public void setRace(String race) {\n",
    "        this.race = race;\n",
    "    }\n",
    "    public String getCity() {\n",
    "        return city;\n",
    "    }\n",
    "    public void setCity(String city) {\n",
    "        this.city = city;\n",
    "    }\n",
    "    public String getLast_name() {\n",
    "        return last_name;\n",
    "    }\n",
    "    public void setLast_name(String last_name) {\n",
    "        this.last_name = last_name;\n",
    "    }\n",
    "    public String getIp_address() {\n",
    "        return ip_address;\n",
    "    }\n",
    "    public void setIp_address(String ip_address) {\n",
    "        this.ip_address = ip_address;\n",
    "    }\n",
    "    public String getSkills() {\n",
    "        return skills;\n",
    "    }\n",
    "    public void setSkills(String skills) {\n",
    "        this.skills = skills;\n",
    "    }\n",
    "    public String getPassword() {\n",
    "        return password;\n",
    "    }\n",
    "    public void setPassword(String password) {\n",
    "        this.password = password;\n",
    "    }\n",
    "    public String getMoney() {\n",
    "        return money;\n",
    "    }\n",
    "    public void setMoney(String money) {\n",
    "        this.money = money;\n",
    "    }\n",
    "    public String getId() {\n",
    "        return id;\n",
    "    }\n",
    "    public void setId(String id) {\n",
    "        this.id = id;\n",
    "    }\n",
    "    public String getDepartment() {\n",
    "        return department;\n",
    "    }\n",
    "    public void setDepartment(String department) {\n",
    "        this.department = department;\n",
    "    }\n",
    "    public String getFirst_name() {\n",
    "        return first_name;\n",
    "    }\n",
    "    public void setFirst_name(String first_name) {\n",
    "        this.first_name = first_name;\n",
    "    }\n",
    "    public String getJob_title() {\n",
    "        return job_title;\n",
    "    }\n",
    "    public void setJob_title(String job_title) {\n",
    "        this.job_title = job_title;\n",
    "    }\n",
    "    public String getEmail() {\n",
    "        return email;\n",
    "    }\n",
    "    public void setEmail(String email) {\n",
    "        this.email = email;\n",
    "    }\n",
    "    public String getCar_make() {\n",
    "        return car_make;\n",
    "    }\n",
    "    public void setCar_make(String car_make) {\n",
    "        this.car_make = car_make;\n",
    "    }\n",
    "    \n",
    "    @Override\n",
    "    public String toString() {\n",
    "                String toString = \"  {\\n\" + \n",
    "                \"    \\\"id\\\": \"+this.id+\",\\n\" + \n",
    "                \"    \\\"first_name\\\": \\\"\"+this.first_name+\"\\\",\\n\" + \n",
    "                \"    \\\"last_name\\\": \\\"\"+this.last_name+\"\\\",\\n\" + \n",
    "                \"    \\\"email\\\": \\\"\"+this.email+\"\\\",\\n\" + \n",
    "                \"    \\\"gender\\\": \\\"\"+this.gender+\"\\\",\\n\" + \n",
    "                \"    \\\"age\\\": \"+this.age+\",\\n\" + \n",
    "                \"    \\\"city\\\": \\\"\"+this.city+\"\\\",\\n\" + \n",
    "//              \"    \\\"department\\\": \\\"\"+this.department+\"\\\",\\n\" + \n",
    "//              \"    \\\"job_title\\\": \\\"\"+this.job_title+\"\\\",\\n\" + \n",
    "//              \"    \\\"skills\\\": \\\"\"+this.skills+\"\\\",\\n\" + \n",
    "//              \"    \\\"money\\\": \\\"\"+this.money+\"\\\",\\n\" + \n",
    "//              \"    \\\"race\\\": \\\"\"+this.race+\"\\\",\\n\" + \n",
    "//              \"    \\\"password\\\": \\\"\"+this.password+\"\\\",\\n\" + \n",
    "//              \"    \\\"ip_address\\\": \\\"\"+this.ip_address+\"\\\",\\n\" + \n",
    "//              \"    \\\"car_make\\\": \\\"\"+this.car_make+\"\\\",\\n\" + \n",
    "//              \"    \\\"car_model\\\": \\\"\"+this.car_model+\"\\\",\\n\" + \n",
    "//              \"    \\\"car_model_year\\\": \"+this.car_model_year+\"\\n\" + \n",
    "                \"  }\";\n",
    "        \n",
    "        return toString;\n",
    "    }\n",
    "    \n",
    "    @Override\n",
    "    public int hashCode() {\n",
    "        final int prime = 31;\n",
    "        int result = 1;\n",
    "        result = prime * result + ((age == null) ? 0 : age.hashCode());\n",
    "        result = prime * result + ((car_make == null) ? 0 : car_make.hashCode());\n",
    "        result = prime * result + ((car_model == null) ? 0 : car_model.hashCode());\n",
    "        result = prime * result + ((car_model_year == null) ? 0 : car_model_year.hashCode());\n",
    "        result = prime * result + ((city == null) ? 0 : city.hashCode());\n",
    "        result = prime * result + ((department == null) ? 0 : department.hashCode());\n",
    "        result = prime * result + ((email == null) ? 0 : email.hashCode());\n",
    "        result = prime * result + ((first_name == null) ? 0 : first_name.hashCode());\n",
    "        result = prime * result + ((gender == null) ? 0 : gender.hashCode());\n",
    "        result = prime * result + ((id == null) ? 0 : id.hashCode());\n",
    "        result = prime * result + ((ip_address == null) ? 0 : ip_address.hashCode());\n",
    "        result = prime * result + ((job_title == null) ? 0 : job_title.hashCode());\n",
    "        result = prime * result + ((last_name == null) ? 0 : last_name.hashCode());\n",
    "        result = prime * result + ((money == null) ? 0 : money.hashCode());\n",
    "        result = prime * result + ((password == null) ? 0 : password.hashCode());\n",
    "        result = prime * result + ((race == null) ? 0 : race.hashCode());\n",
    "        result = prime * result + ((skills == null) ? 0 : skills.hashCode());\n",
    "        return result;\n",
    "    }\n",
    "    @Override\n",
    "    public boolean equals(Object obj) {\n",
    "        if (this == obj)\n",
    "            return true;\n",
    "        if (obj == null)\n",
    "            return false;\n",
    "        if (getClass() != obj.getClass())\n",
    "            return false;\n",
    "        Humans other = (Humans) obj;\n",
    "        if (age == null) {\n",
    "            if (other.age != null)\n",
    "                return false;\n",
    "        } else if (!age.equals(other.age))\n",
    "            return false;\n",
    "        if (car_make == null) {\n",
    "            if (other.car_make != null)\n",
    "                return false;\n",
    "        } else if (!car_make.equals(other.car_make))\n",
    "            return false;\n",
    "        if (car_model == null) {\n",
    "            if (other.car_model != null)\n",
    "                return false;\n",
    "        } else if (!car_model.equals(other.car_model))\n",
    "            return false;\n",
    "        if (car_model_year == null) {\n",
    "            if (other.car_model_year != null)\n",
    "                return false;\n",
    "        } else if (!car_model_year.equals(other.car_model_year))\n",
    "            return false;\n",
    "        if (city == null) {\n",
    "            if (other.city != null)\n",
    "                return false;\n",
    "        } else if (!city.equals(other.city))\n",
    "            return false;\n",
    "        if (department == null) {\n",
    "            if (other.department != null)\n",
    "                return false;\n",
    "        } else if (!department.equals(other.department))\n",
    "            return false;\n",
    "        if (email == null) {\n",
    "            if (other.email != null)\n",
    "                return false;\n",
    "        } else if (!email.equals(other.email))\n",
    "            return false;\n",
    "        if (first_name == null) {\n",
    "            if (other.first_name != null)\n",
    "                return false;\n",
    "        } else if (!first_name.equals(other.first_name))\n",
    "            return false;\n",
    "        if (gender == null) {\n",
    "            if (other.gender != null)\n",
    "                return false;\n",
    "        } else if (!gender.equals(other.gender))\n",
    "            return false;\n",
    "        if (id == null) {\n",
    "            if (other.id != null)\n",
    "                return false;\n",
    "        } else if (!id.equals(other.id))\n",
    "            return false;\n",
    "        if (ip_address == null) {\n",
    "            if (other.ip_address != null)\n",
    "                return false;\n",
    "        } else if (!ip_address.equals(other.ip_address))\n",
    "            return false;\n",
    "        if (job_title == null) {\n",
    "            if (other.job_title != null)\n",
    "                return false;\n",
    "        } else if (!job_title.equals(other.job_title))\n",
    "            return false;\n",
    "        if (last_name == null) {\n",
    "            if (other.last_name != null)\n",
    "                return false;\n",
    "        } else if (!last_name.equals(other.last_name))\n",
    "            return false;\n",
    "        if (money == null) {\n",
    "            if (other.money != null)\n",
    "                return false;\n",
    "        } else if (!money.equals(other.money))\n",
    "            return false;\n",
    "        if (password == null) {\n",
    "            if (other.password != null)\n",
    "                return false;\n",
    "        } else if (!password.equals(other.password))\n",
    "            return false;\n",
    "        if (race == null) {\n",
    "            if (other.race != null)\n",
    "                return false;\n",
    "        } else if (!race.equals(other.race))\n",
    "            return false;\n",
    "        if (skills == null) {\n",
    "            if (other.skills != null)\n",
    "                return false;\n",
    "        } else if (!skills.equals(other.skills))\n",
    "            return false;\n",
    "        return true;\n",
    "    }\n",
    "}"
   ]
  },
  {
   "cell_type": "markdown",
   "metadata": {},
   "source": [
    "# Base class cat"
   ]
  },
  {
   "cell_type": "code",
   "execution_count": 2,
   "metadata": {},
   "outputs": [],
   "source": [
    "public class Cat {\n",
    "    private String name;\n",
    "    private String type;\n",
    "    private Integer age;\n",
    "\n",
    "    @Override\n",
    "    public int hashCode() {\n",
    "        final int prime = 31;\n",
    "        int result = 1;\n",
    "        result = prime * result + ((age == null) ? 0 : age.hashCode());\n",
    "        result = prime * result + ((name == null) ? 0 : name.hashCode());\n",
    "        result = prime * result + ((type == null) ? 0 : type.hashCode());\n",
    "        return result;\n",
    "    }\n",
    "\n",
    "    @Override\n",
    "    public boolean equals(Object obj) {\n",
    "        if (this == obj)\n",
    "            return true;\n",
    "        if (obj == null)\n",
    "            return false;\n",
    "        if (getClass() != obj.getClass())\n",
    "            return false;\n",
    "        Cat other = (Cat) obj;\n",
    "        if (age == null) {\n",
    "            if (other.age != null)\n",
    "                return false;\n",
    "        } else if (!age.equals(other.age))\n",
    "            return false;\n",
    "        if (name == null) {\n",
    "            if (other.name != null)\n",
    "                return false;\n",
    "        } else if (!name.equals(other.name))\n",
    "            return false;\n",
    "        if (type == null) {\n",
    "            if (other.type != null)\n",
    "                return false;\n",
    "        } else if (!type.equals(other.type))\n",
    "            return false;\n",
    "        return true;\n",
    "    }\n",
    "\n",
    "    @Override\n",
    "    public String toString() {\n",
    "        return \"Cat [name=\" + name + \", type=\" + type + \", age=\" + age + \"]\";\n",
    "    }\n",
    "\n",
    "    public Cat(String name, String type, Integer age) {\n",
    "        super();\n",
    "        this.name = name;\n",
    "        this.type = type;\n",
    "        this.age = age;\n",
    "    }\n",
    "}"
   ]
  },
  {
   "cell_type": "markdown",
   "metadata": {},
   "source": [
    "# GSON dependency"
   ]
  },
  {
   "cell_type": "code",
   "execution_count": 3,
   "metadata": {},
   "outputs": [],
   "source": [
    "%%loadFromPOM\n",
    "<dependency>\n",
    "    <groupId>com.google.code.gson</groupId>\n",
    "    <artifactId>gson</artifactId>\n",
    "    <version>2.8.6</version>\n",
    "</dependency>"
   ]
  },
  {
   "cell_type": "markdown",
   "metadata": {},
   "source": [
    "# Imports that will be used later"
   ]
  },
  {
   "cell_type": "code",
   "execution_count": 4,
   "metadata": {},
   "outputs": [],
   "source": [
    "import java.io.IOException;\n",
    "import java.io.Reader;\n",
    "import java.nio.file.Files;\n",
    "import java.nio.file.Paths;\n",
    "import java.util.Collections;\n",
    "import java.util.Comparator;\n",
    "import java.util.List;\n",
    "import java.util.stream.Collectors;\n",
    "import java.util.stream.Stream;\n",
    "\n",
    "import com.google.gson.Gson;\n",
    "import com.google.gson.reflect.TypeToken;"
   ]
  },
  {
   "cell_type": "markdown",
   "metadata": {},
   "source": [
    "# human.json file location"
   ]
  },
  {
   "cell_type": "code",
   "execution_count": 5,
   "metadata": {},
   "outputs": [],
   "source": [
    "private static final String JSON_FILE = \"/Users/apple/code/github/java/java-features-notebook/humans.json\";"
   ]
  },
  {
   "cell_type": "markdown",
   "metadata": {},
   "source": [
    "# getHumans will read the JSON_FILE and return a list of humans\n",
    "# printHumans will print the humans to given size"
   ]
  },
  {
   "cell_type": "code",
   "execution_count": 6,
   "metadata": {},
   "outputs": [],
   "source": [
    "private static List<Humans> getHumans() throws IOException {\n",
    "    Reader reader = Files.newBufferedReader(Paths.get(JSON_FILE));\n",
    "\n",
    "    List<Humans> humans = new Gson().fromJson(reader, new TypeToken<List<Humans>>() {\n",
    "    }.getType());\n",
    "    reader.close();\n",
    "    return humans;\n",
    "}\n",
    "\n",
    "public static void printHumans(List<Humans> humans, int size){\n",
    "    for(int i = 0 ; i < size ; i++){\n",
    "        System.out.println(humans.get(i));\n",
    "    }\n",
    "}"
   ]
  },
  {
   "cell_type": "markdown",
   "metadata": {},
   "source": [
    "# Contents: \n",
    "* Resources\n",
    "* Base class\n",
    "* Comparator\n",
    "* Functional Interface\n",
    "    * Predicate\n",
    "    * Supplier\n",
    "    * Consumer\n",
    "    * Function\n",
    "* Lambda\n",
    "* Stream"
   ]
  },
  {
   "cell_type": "markdown",
   "metadata": {},
   "source": [
    "# Lets start, humans are wanderers\n",
    "![Earth](https://earthsky.org/upl/2015/07/earth-from-moon.jpg)"
   ]
  },
  {
   "cell_type": "markdown",
   "metadata": {},
   "source": [
    "## We are start dust and lets start a new earth, and we will start creating life with us homo-sapiens"
   ]
  },
  {
   "cell_type": "code",
   "execution_count": 7,
   "metadata": {},
   "outputs": [],
   "source": [
    "List<Humans> humans = getHumans();"
   ]
  },
  {
   "cell_type": "code",
   "execution_count": 8,
   "metadata": {},
   "outputs": [
    {
     "data": {
      "text/plain": [
       "1000"
      ]
     },
     "execution_count": 8,
     "metadata": {},
     "output_type": "execute_result"
    }
   ],
   "source": [
    "humans.size()"
   ]
  },
  {
   "cell_type": "code",
   "execution_count": 9,
   "metadata": {},
   "outputs": [
    {
     "name": "stdout",
     "output_type": "stream",
     "text": [
      "  {\n",
      "    \"id\": 1,\n",
      "    \"first_name\": \"Umberto\",\n",
      "    \"last_name\": \"Rimes\",\n",
      "    \"email\": \"urimes0@prnewswire.com\",\n",
      "    \"gender\": \"Male\",\n",
      "    \"age\": 51,\n",
      "    \"city\": \"Bumpe\",\n",
      "  }\n",
      "  {\n",
      "    \"id\": 2,\n",
      "    \"first_name\": \"Lock\",\n",
      "    \"last_name\": \"Maryman\",\n",
      "    \"email\": \"lmaryman1@ameblo.jp\",\n",
      "    \"gender\": \"Male\",\n",
      "    \"age\": 7,\n",
      "    \"city\": \"Jiamiao\",\n",
      "  }\n",
      "  {\n",
      "    \"id\": 3,\n",
      "    \"first_name\": \"Anabel\",\n",
      "    \"last_name\": \"Soule\",\n",
      "    \"email\": \"asoule2@vimeo.com\",\n",
      "    \"gender\": \"Female\",\n",
      "    \"age\": 113,\n",
      "    \"city\": \"Chao\",\n",
      "  }\n",
      "  {\n",
      "    \"id\": 4,\n",
      "    \"first_name\": \"Selie\",\n",
      "    \"last_name\": \"Ommanney\",\n",
      "    \"email\": \"sommanney3@trellian.com\",\n",
      "    \"gender\": \"Female\",\n",
      "    \"age\": 45,\n",
      "    \"city\": \"Bubanza\",\n",
      "  }\n",
      "  {\n",
      "    \"id\": 5,\n",
      "    \"first_name\": \"Yardley\",\n",
      "    \"last_name\": \"Silbermann\",\n",
      "    \"email\": \"ysilbermann4@blogtalkradio.com\",\n",
      "    \"gender\": \"Male\",\n",
      "    \"age\": 120,\n",
      "    \"city\": \"Konče\",\n",
      "  }\n",
      "  {\n",
      "    \"id\": 6,\n",
      "    \"first_name\": \"Clemmie\",\n",
      "    \"last_name\": \"Wohler\",\n",
      "    \"email\": \"cwohler5@plala.or.jp\",\n",
      "    \"gender\": \"Female\",\n",
      "    \"age\": 56,\n",
      "    \"city\": \"Presidencia Roque Sáenz Peña\",\n",
      "  }\n",
      "  {\n",
      "    \"id\": 7,\n",
      "    \"first_name\": \"Jacky\",\n",
      "    \"last_name\": \"Hambling\",\n",
      "    \"email\": \"jhambling6@usgs.gov\",\n",
      "    \"gender\": \"Female\",\n",
      "    \"age\": 25,\n",
      "    \"city\": \"Viso\",\n",
      "  }\n"
     ]
    }
   ],
   "source": [
    "printHumans(humans, 7);"
   ]
  },
  {
   "cell_type": "markdown",
   "metadata": {},
   "source": [
    "#### Now that we have created humans, first thing that comes to our mind is how many females? \n",
    "#### But wait before that we want to print all the humans in ascending order of their age.\n",
    "### How we will sort the humans by age?"
   ]
  },
  {
   "cell_type": "markdown",
   "metadata": {},
   "source": [
    "In this world we can define comparators, for sorting.\n",
    "\n",
    "Lets define those!"
   ]
  },
  {
   "cell_type": "code",
   "execution_count": 10,
   "metadata": {},
   "outputs": [],
   "source": [
    "Comparator<Humans> ageComparator = new Comparator<>() {\n",
    "    @Override\n",
    "    public int compare(Humans h1, Humans h2) {\n",
    "        return h1.getAge().compareTo(h2.getAge());\n",
    "    }\n",
    "};"
   ]
  },
  {
   "cell_type": "code",
   "execution_count": 11,
   "metadata": {},
   "outputs": [],
   "source": [
    "Collections.sort(humans, ageComparator);"
   ]
  },
  {
   "cell_type": "code",
   "execution_count": 12,
   "metadata": {},
   "outputs": [
    {
     "name": "stdout",
     "output_type": "stream",
     "text": [
      "  {\n",
      "    \"id\": 89,\n",
      "    \"first_name\": \"Braden\",\n",
      "    \"last_name\": \"Battisson\",\n",
      "    \"email\": \"bbattisson2g@jiathis.com\",\n",
      "    \"gender\": \"Male\",\n",
      "    \"age\": 0,\n",
      "    \"city\": \"Tiglauigan\",\n",
      "  }\n",
      "  {\n",
      "    \"id\": 151,\n",
      "    \"first_name\": \"Lind\",\n",
      "    \"last_name\": \"Littrick\",\n",
      "    \"email\": \"llittrick46@blogs.com\",\n",
      "    \"gender\": \"Female\",\n",
      "    \"age\": 0,\n",
      "    \"city\": \"Zapala\",\n",
      "  }\n",
      "  {\n",
      "    \"id\": 206,\n",
      "    \"first_name\": \"Roseline\",\n",
      "    \"last_name\": \"Dudleston\",\n",
      "    \"email\": \"rdudleston5p@tripadvisor.com\",\n",
      "    \"gender\": \"Female\",\n",
      "    \"age\": 0,\n",
      "    \"city\": \"Pinggang\",\n",
      "  }\n",
      "  {\n",
      "    \"id\": 234,\n",
      "    \"first_name\": \"Reynolds\",\n",
      "    \"last_name\": \"Godain\",\n",
      "    \"email\": \"rgodain6h@auda.org.au\",\n",
      "    \"gender\": \"Male\",\n",
      "    \"age\": 0,\n",
      "    \"city\": \"Kongolo\",\n",
      "  }\n",
      "  {\n",
      "    \"id\": 236,\n",
      "    \"first_name\": \"Dieter\",\n",
      "    \"last_name\": \"Grise\",\n",
      "    \"email\": \"dgrise6j@yahoo.co.jp\",\n",
      "    \"gender\": \"Male\",\n",
      "    \"age\": 0,\n",
      "    \"city\": \"Ballyjamesduff\",\n",
      "  }\n",
      "  {\n",
      "    \"id\": 291,\n",
      "    \"first_name\": \"Selia\",\n",
      "    \"last_name\": \"Lanfare\",\n",
      "    \"email\": \"slanfare82@skype.com\",\n",
      "    \"gender\": \"Female\",\n",
      "    \"age\": 0,\n",
      "    \"city\": \"Soest\",\n",
      "  }\n",
      "  {\n",
      "    \"id\": 439,\n",
      "    \"first_name\": \"Thain\",\n",
      "    \"last_name\": \"Hinckes\",\n",
      "    \"email\": \"thinckesc6@webs.com\",\n",
      "    \"gender\": \"Male\",\n",
      "    \"age\": 0,\n",
      "    \"city\": \"Paços\",\n",
      "  }\n"
     ]
    }
   ],
   "source": [
    "printHumans(humans, 7);"
   ]
  },
  {
   "cell_type": "markdown",
   "metadata": {},
   "source": [
    "#### Since we need to make other species also and we would need many other type of sortings, so is there a better way of comparing and sorting?\n",
    "\n",
    "### Yup there is something called as lambda lets see what it is."
   ]
  },
  {
   "cell_type": "markdown",
   "metadata": {},
   "source": [
    "## Lets restart the world."
   ]
  },
  {
   "cell_type": "code",
   "execution_count": 13,
   "metadata": {},
   "outputs": [
    {
     "name": "stdout",
     "output_type": "stream",
     "text": [
      "  {\n",
      "    \"id\": 1,\n",
      "    \"first_name\": \"Umberto\",\n",
      "    \"last_name\": \"Rimes\",\n",
      "    \"email\": \"urimes0@prnewswire.com\",\n",
      "    \"gender\": \"Male\",\n",
      "    \"age\": 51,\n",
      "    \"city\": \"Bumpe\",\n",
      "  }\n",
      "  {\n",
      "    \"id\": 2,\n",
      "    \"first_name\": \"Lock\",\n",
      "    \"last_name\": \"Maryman\",\n",
      "    \"email\": \"lmaryman1@ameblo.jp\",\n",
      "    \"gender\": \"Male\",\n",
      "    \"age\": 7,\n",
      "    \"city\": \"Jiamiao\",\n",
      "  }\n"
     ]
    }
   ],
   "source": [
    "humans = getHumans();\n",
    "printHumans(humans, 2);"
   ]
  },
  {
   "cell_type": "markdown",
   "metadata": {},
   "source": [
    "## Using lambda"
   ]
  },
  {
   "cell_type": "code",
   "execution_count": 14,
   "metadata": {},
   "outputs": [],
   "source": [
    "Comparator<Humans> ageComparatorLambda = (Humans h1, Humans h2) -> {\n",
    "    return h1.getAge().compareTo(h2.getAge());\n",
    "};"
   ]
  },
  {
   "cell_type": "code",
   "execution_count": 15,
   "metadata": {},
   "outputs": [],
   "source": [
    "Collections.sort(humans, ageComparatorLambda);"
   ]
  },
  {
   "cell_type": "code",
   "execution_count": 16,
   "metadata": {},
   "outputs": [
    {
     "name": "stdout",
     "output_type": "stream",
     "text": [
      "  {\n",
      "    \"id\": 89,\n",
      "    \"first_name\": \"Braden\",\n",
      "    \"last_name\": \"Battisson\",\n",
      "    \"email\": \"bbattisson2g@jiathis.com\",\n",
      "    \"gender\": \"Male\",\n",
      "    \"age\": 0,\n",
      "    \"city\": \"Tiglauigan\",\n",
      "  }\n",
      "  {\n",
      "    \"id\": 151,\n",
      "    \"first_name\": \"Lind\",\n",
      "    \"last_name\": \"Littrick\",\n",
      "    \"email\": \"llittrick46@blogs.com\",\n",
      "    \"gender\": \"Female\",\n",
      "    \"age\": 0,\n",
      "    \"city\": \"Zapala\",\n",
      "  }\n",
      "  {\n",
      "    \"id\": 206,\n",
      "    \"first_name\": \"Roseline\",\n",
      "    \"last_name\": \"Dudleston\",\n",
      "    \"email\": \"rdudleston5p@tripadvisor.com\",\n",
      "    \"gender\": \"Female\",\n",
      "    \"age\": 0,\n",
      "    \"city\": \"Pinggang\",\n",
      "  }\n",
      "  {\n",
      "    \"id\": 234,\n",
      "    \"first_name\": \"Reynolds\",\n",
      "    \"last_name\": \"Godain\",\n",
      "    \"email\": \"rgodain6h@auda.org.au\",\n",
      "    \"gender\": \"Male\",\n",
      "    \"age\": 0,\n",
      "    \"city\": \"Kongolo\",\n",
      "  }\n",
      "  {\n",
      "    \"id\": 236,\n",
      "    \"first_name\": \"Dieter\",\n",
      "    \"last_name\": \"Grise\",\n",
      "    \"email\": \"dgrise6j@yahoo.co.jp\",\n",
      "    \"gender\": \"Male\",\n",
      "    \"age\": 0,\n",
      "    \"city\": \"Ballyjamesduff\",\n",
      "  }\n",
      "  {\n",
      "    \"id\": 291,\n",
      "    \"first_name\": \"Selia\",\n",
      "    \"last_name\": \"Lanfare\",\n",
      "    \"email\": \"slanfare82@skype.com\",\n",
      "    \"gender\": \"Female\",\n",
      "    \"age\": 0,\n",
      "    \"city\": \"Soest\",\n",
      "  }\n",
      "  {\n",
      "    \"id\": 439,\n",
      "    \"first_name\": \"Thain\",\n",
      "    \"last_name\": \"Hinckes\",\n",
      "    \"email\": \"thinckesc6@webs.com\",\n",
      "    \"gender\": \"Male\",\n",
      "    \"age\": 0,\n",
      "    \"city\": \"Paços\",\n",
      "  }\n"
     ]
    }
   ],
   "source": [
    "printHumans(humans, 7);"
   ]
  },
  {
   "cell_type": "markdown",
   "metadata": {},
   "source": [
    "## Can we do better?"
   ]
  },
  {
   "cell_type": "code",
   "execution_count": 17,
   "metadata": {},
   "outputs": [],
   "source": [
    "humans = getHumans();\n",
    "\n",
    "Comparator<Humans> ageComparatorLambdaTypeInference = (h1, h2) -> {\n",
    "    return h1.getAge().compareTo(h2.getAge());\n",
    "};"
   ]
  },
  {
   "cell_type": "code",
   "execution_count": 18,
   "metadata": {},
   "outputs": [],
   "source": [
    "Collections.sort(humans, ageComparatorLambdaTypeInference);"
   ]
  },
  {
   "cell_type": "code",
   "execution_count": 19,
   "metadata": {},
   "outputs": [
    {
     "name": "stdout",
     "output_type": "stream",
     "text": [
      "  {\n",
      "    \"id\": 89,\n",
      "    \"first_name\": \"Braden\",\n",
      "    \"last_name\": \"Battisson\",\n",
      "    \"email\": \"bbattisson2g@jiathis.com\",\n",
      "    \"gender\": \"Male\",\n",
      "    \"age\": 0,\n",
      "    \"city\": \"Tiglauigan\",\n",
      "  }\n",
      "  {\n",
      "    \"id\": 151,\n",
      "    \"first_name\": \"Lind\",\n",
      "    \"last_name\": \"Littrick\",\n",
      "    \"email\": \"llittrick46@blogs.com\",\n",
      "    \"gender\": \"Female\",\n",
      "    \"age\": 0,\n",
      "    \"city\": \"Zapala\",\n",
      "  }\n",
      "  {\n",
      "    \"id\": 206,\n",
      "    \"first_name\": \"Roseline\",\n",
      "    \"last_name\": \"Dudleston\",\n",
      "    \"email\": \"rdudleston5p@tripadvisor.com\",\n",
      "    \"gender\": \"Female\",\n",
      "    \"age\": 0,\n",
      "    \"city\": \"Pinggang\",\n",
      "  }\n",
      "  {\n",
      "    \"id\": 234,\n",
      "    \"first_name\": \"Reynolds\",\n",
      "    \"last_name\": \"Godain\",\n",
      "    \"email\": \"rgodain6h@auda.org.au\",\n",
      "    \"gender\": \"Male\",\n",
      "    \"age\": 0,\n",
      "    \"city\": \"Kongolo\",\n",
      "  }\n",
      "  {\n",
      "    \"id\": 236,\n",
      "    \"first_name\": \"Dieter\",\n",
      "    \"last_name\": \"Grise\",\n",
      "    \"email\": \"dgrise6j@yahoo.co.jp\",\n",
      "    \"gender\": \"Male\",\n",
      "    \"age\": 0,\n",
      "    \"city\": \"Ballyjamesduff\",\n",
      "  }\n",
      "  {\n",
      "    \"id\": 291,\n",
      "    \"first_name\": \"Selia\",\n",
      "    \"last_name\": \"Lanfare\",\n",
      "    \"email\": \"slanfare82@skype.com\",\n",
      "    \"gender\": \"Female\",\n",
      "    \"age\": 0,\n",
      "    \"city\": \"Soest\",\n",
      "  }\n",
      "  {\n",
      "    \"id\": 439,\n",
      "    \"first_name\": \"Thain\",\n",
      "    \"last_name\": \"Hinckes\",\n",
      "    \"email\": \"thinckesc6@webs.com\",\n",
      "    \"gender\": \"Male\",\n",
      "    \"age\": 0,\n",
      "    \"city\": \"Paços\",\n",
      "  }\n"
     ]
    }
   ],
   "source": [
    "printHumans(humans, 7);"
   ]
  },
  {
   "cell_type": "markdown",
   "metadata": {},
   "source": [
    "## Can we do even more better.\n",
    "\n",
    "# Yup\n",
    "\n",
    "## So now there is something called as stream, may be we can use stream instead of collection "
   ]
  },
  {
   "cell_type": "code",
   "execution_count": 20,
   "metadata": {},
   "outputs": [
    {
     "name": "stdout",
     "output_type": "stream",
     "text": [
      "  {\n",
      "    \"id\": 1,\n",
      "    \"first_name\": \"Umberto\",\n",
      "    \"last_name\": \"Rimes\",\n",
      "    \"email\": \"urimes0@prnewswire.com\",\n",
      "    \"gender\": \"Male\",\n",
      "    \"age\": 51,\n",
      "    \"city\": \"Bumpe\",\n",
      "  }\n",
      "  {\n",
      "    \"id\": 2,\n",
      "    \"first_name\": \"Lock\",\n",
      "    \"last_name\": \"Maryman\",\n",
      "    \"email\": \"lmaryman1@ameblo.jp\",\n",
      "    \"gender\": \"Male\",\n",
      "    \"age\": 7,\n",
      "    \"city\": \"Jiamiao\",\n",
      "  }\n"
     ]
    }
   ],
   "source": [
    "humans = getHumans();\n",
    "printHumans(humans, 2)"
   ]
  },
  {
   "cell_type": "code",
   "execution_count": 21,
   "metadata": {},
   "outputs": [],
   "source": [
    "Stream<Humans> sortedHumanStream = humans.stream()\n",
    "                                         .sorted(ageComparatorLambdaTypeInference);"
   ]
  },
  {
   "cell_type": "code",
   "execution_count": 22,
   "metadata": {},
   "outputs": [
    {
     "name": "stdout",
     "output_type": "stream",
     "text": [
      "java.util.stream.SortedOps$OfRef@6e162aae\n"
     ]
    }
   ],
   "source": [
    "System.out.println(sortedHumanStream)"
   ]
  },
  {
   "cell_type": "code",
   "execution_count": 23,
   "metadata": {},
   "outputs": [],
   "source": [
    "List<Humans> collectedFirst5Humans = sortedHumanStream.limit(5)\n",
    "                                                      .collect(Collectors.toList());"
   ]
  },
  {
   "cell_type": "code",
   "execution_count": 24,
   "metadata": {},
   "outputs": [
    {
     "name": "stdout",
     "output_type": "stream",
     "text": [
      "  {\n",
      "    \"id\": 89,\n",
      "    \"first_name\": \"Braden\",\n",
      "    \"last_name\": \"Battisson\",\n",
      "    \"email\": \"bbattisson2g@jiathis.com\",\n",
      "    \"gender\": \"Male\",\n",
      "    \"age\": 0,\n",
      "    \"city\": \"Tiglauigan\",\n",
      "  }\n",
      "  {\n",
      "    \"id\": 151,\n",
      "    \"first_name\": \"Lind\",\n",
      "    \"last_name\": \"Littrick\",\n",
      "    \"email\": \"llittrick46@blogs.com\",\n",
      "    \"gender\": \"Female\",\n",
      "    \"age\": 0,\n",
      "    \"city\": \"Zapala\",\n",
      "  }\n",
      "  {\n",
      "    \"id\": 206,\n",
      "    \"first_name\": \"Roseline\",\n",
      "    \"last_name\": \"Dudleston\",\n",
      "    \"email\": \"rdudleston5p@tripadvisor.com\",\n",
      "    \"gender\": \"Female\",\n",
      "    \"age\": 0,\n",
      "    \"city\": \"Pinggang\",\n",
      "  }\n",
      "  {\n",
      "    \"id\": 234,\n",
      "    \"first_name\": \"Reynolds\",\n",
      "    \"last_name\": \"Godain\",\n",
      "    \"email\": \"rgodain6h@auda.org.au\",\n",
      "    \"gender\": \"Male\",\n",
      "    \"age\": 0,\n",
      "    \"city\": \"Kongolo\",\n",
      "  }\n",
      "  {\n",
      "    \"id\": 236,\n",
      "    \"first_name\": \"Dieter\",\n",
      "    \"last_name\": \"Grise\",\n",
      "    \"email\": \"dgrise6j@yahoo.co.jp\",\n",
      "    \"gender\": \"Male\",\n",
      "    \"age\": 0,\n",
      "    \"city\": \"Ballyjamesduff\",\n",
      "  }\n"
     ]
    }
   ],
   "source": [
    "printHumans(collectedFirst5Humans, 5);"
   ]
  },
  {
   "cell_type": "markdown",
   "metadata": {},
   "source": [
    "# There is still some problem, is there a way to define the comparator in a beautiful way?\n",
    "\n",
    "# Yup"
   ]
  },
  {
   "cell_type": "code",
   "execution_count": 25,
   "metadata": {},
   "outputs": [],
   "source": [
    "Stream<Humans> sortedHumansFinal = humans.stream()\n",
    "                                         .sorted(Comparator.comparing(Humans::getAge));"
   ]
  },
  {
   "cell_type": "code",
   "execution_count": 26,
   "metadata": {},
   "outputs": [
    {
     "name": "stdout",
     "output_type": "stream",
     "text": [
      "  {\n",
      "    \"id\": 89,\n",
      "    \"first_name\": \"Braden\",\n",
      "    \"last_name\": \"Battisson\",\n",
      "    \"email\": \"bbattisson2g@jiathis.com\",\n",
      "    \"gender\": \"Male\",\n",
      "    \"age\": 0,\n",
      "    \"city\": \"Tiglauigan\",\n",
      "  }\n",
      "  {\n",
      "    \"id\": 151,\n",
      "    \"first_name\": \"Lind\",\n",
      "    \"last_name\": \"Littrick\",\n",
      "    \"email\": \"llittrick46@blogs.com\",\n",
      "    \"gender\": \"Female\",\n",
      "    \"age\": 0,\n",
      "    \"city\": \"Zapala\",\n",
      "  }\n",
      "  {\n",
      "    \"id\": 206,\n",
      "    \"first_name\": \"Roseline\",\n",
      "    \"last_name\": \"Dudleston\",\n",
      "    \"email\": \"rdudleston5p@tripadvisor.com\",\n",
      "    \"gender\": \"Female\",\n",
      "    \"age\": 0,\n",
      "    \"city\": \"Pinggang\",\n",
      "  }\n",
      "  {\n",
      "    \"id\": 234,\n",
      "    \"first_name\": \"Reynolds\",\n",
      "    \"last_name\": \"Godain\",\n",
      "    \"email\": \"rgodain6h@auda.org.au\",\n",
      "    \"gender\": \"Male\",\n",
      "    \"age\": 0,\n",
      "    \"city\": \"Kongolo\",\n",
      "  }\n",
      "  {\n",
      "    \"id\": 236,\n",
      "    \"first_name\": \"Dieter\",\n",
      "    \"last_name\": \"Grise\",\n",
      "    \"email\": \"dgrise6j@yahoo.co.jp\",\n",
      "    \"gender\": \"Male\",\n",
      "    \"age\": 0,\n",
      "    \"city\": \"Ballyjamesduff\",\n",
      "  }\n",
      "  {\n",
      "    \"id\": 291,\n",
      "    \"first_name\": \"Selia\",\n",
      "    \"last_name\": \"Lanfare\",\n",
      "    \"email\": \"slanfare82@skype.com\",\n",
      "    \"gender\": \"Female\",\n",
      "    \"age\": 0,\n",
      "    \"city\": \"Soest\",\n",
      "  }\n",
      "  {\n",
      "    \"id\": 439,\n",
      "    \"first_name\": \"Thain\",\n",
      "    \"last_name\": \"Hinckes\",\n",
      "    \"email\": \"thinckesc6@webs.com\",\n",
      "    \"gender\": \"Male\",\n",
      "    \"age\": 0,\n",
      "    \"city\": \"Paços\",\n",
      "  }\n",
      "  {\n",
      "    \"id\": 527,\n",
      "    \"first_name\": \"Marcos\",\n",
      "    \"last_name\": \"Buist\",\n",
      "    \"email\": \"mbuistem@networksolutions.com\",\n",
      "    \"gender\": \"Male\",\n",
      "    \"age\": 0,\n",
      "    \"city\": \"Kafir Qala\",\n",
      "  }\n",
      "  {\n",
      "    \"id\": 641,\n",
      "    \"first_name\": \"Avril\",\n",
      "    \"last_name\": \"Pendre\",\n",
      "    \"email\": \"apendrehs@huffingtonpost.com\",\n",
      "    \"gender\": \"Female\",\n",
      "    \"age\": 0,\n",
      "    \"city\": \"Barra Bonita\",\n",
      "  }\n",
      "  {\n",
      "    \"id\": 786,\n",
      "    \"first_name\": \"Alano\",\n",
      "    \"last_name\": \"Vassman\",\n",
      "    \"email\": \"avassmanlt@yolasite.com\",\n",
      "    \"gender\": \"Male\",\n",
      "    \"age\": 0,\n",
      "    \"city\": \"Tucson\",\n",
      "  }\n"
     ]
    }
   ],
   "source": [
    "sortedHumansFinal.limit(10)\n",
    "                 .forEach(System.out::println);"
   ]
  },
  {
   "cell_type": "markdown",
   "metadata": {},
   "source": [
    "## Too much data, I only want to see the age and first name. Is there any way?\n",
    "\n",
    "# Yup"
   ]
  },
  {
   "cell_type": "code",
   "execution_count": 27,
   "metadata": {},
   "outputs": [
    {
     "name": "stdout",
     "output_type": "stream",
     "text": [
      "0 Braden\n",
      "0 Lind\n",
      "0 Roseline\n",
      "0 Reynolds\n",
      "0 Dieter\n",
      "0 Selia\n",
      "0 Thain\n",
      "0 Marcos\n",
      "0 Avril\n",
      "0 Alano\n",
      "0 Ward\n",
      "1 Sergio\n",
      "1 Hedy\n",
      "1 Granville\n",
      "1 Griz\n",
      "1 Stevie\n",
      "1 Elbert\n",
      "1 Slade\n",
      "1 Haslett\n",
      "1 Arne\n"
     ]
    }
   ],
   "source": [
    "humans.stream()\n",
    "    .sorted(Comparator.comparing(Humans::getAge))\n",
    "    .map(h -> h.getAge() + \" \" + h.getFirst_name())\n",
    "    .limit(20)\n",
    "    .forEach(System.out::println);"
   ]
  },
  {
   "cell_type": "markdown",
   "metadata": {},
   "source": [
    "## What if I want the max age of humans"
   ]
  },
  {
   "cell_type": "code",
   "execution_count": 28,
   "metadata": {},
   "outputs": [
    {
     "name": "stdout",
     "output_type": "stream",
     "text": [
      "120 Yardley\n",
      "120 Dell\n",
      "120 Broddie\n",
      "120 Archambault\n",
      "120 Barnebas\n",
      "120 Bernardo\n",
      "120 Karlen\n",
      "120 Loraine\n",
      "120 Nadeen\n",
      "120 Jabez\n",
      "119 Celinka\n",
      "119 Leland\n",
      "119 Andie\n",
      "119 Roderic\n",
      "119 Tandi\n",
      "119 Dore\n",
      "119 Randi\n",
      "119 Ginger\n",
      "118 Wilmer\n",
      "118 Brantley\n"
     ]
    }
   ],
   "source": [
    "humans.stream()\n",
    "    .sorted(Comparator.comparing(Humans::getAge).reversed())\n",
    "    .map(h -> h.getAge() + \" \" + h.getFirst_name())\n",
    "    .limit(20)\n",
    "    .forEach(System.out::println);"
   ]
  },
  {
   "cell_type": "markdown",
   "metadata": {},
   "source": [
    "## Now how many females has been created."
   ]
  },
  {
   "cell_type": "code",
   "execution_count": 29,
   "metadata": {},
   "outputs": [],
   "source": [
    "Map<String, Long> humansByGender = humans.stream()\n",
    "                                         .collect(Collectors.groupingBy(h -> h.getGender(), Collectors.counting()));"
   ]
  },
  {
   "cell_type": "code",
   "execution_count": 30,
   "metadata": {},
   "outputs": [
    {
     "data": {
      "text/plain": [
       "{Female=486, Male=514}"
      ]
     },
     "execution_count": 30,
     "metadata": {},
     "output_type": "execute_result"
    }
   ],
   "source": [
    "humansByGender"
   ]
  },
  {
   "cell_type": "markdown",
   "metadata": {},
   "source": [
    "# Questions?\n",
    "## 1 question each human 😜"
   ]
  },
  {
   "cell_type": "code",
   "execution_count": 31,
   "metadata": {},
   "outputs": [
    {
     "name": "stdout",
     "output_type": "stream",
     "text": [
      "IntSummaryStatistics{count=1000, sum=58359, min=0, average=58.359000, max=120}\n"
     ]
    }
   ],
   "source": [
    "IntSummaryStatistics statistics = humans.stream()\n",
    "        .mapToInt(Humans::getAge)\n",
    "        .summaryStatistics();\n",
    "\n",
    "System.out.println(statistics);"
   ]
  },
  {
   "cell_type": "markdown",
   "metadata": {},
   "source": [
    "# Functional Interfaces:\n",
    "## Provides a definition of functional interfaces, which lambda expressions and method references can be used to instantiate.\n",
    "* Predicate\n",
    "* Supplier\n",
    "* Consumer\n",
    "* Function\n",
    "\n",
    "Some functional interface example in java.\n",
    "\n",
    "* BiConsumer\n",
    "* BiFunction\n",
    "* BinaryOperator\n",
    "* BiPredicate\n",
    "* BooleanSupplier\n",
    "* Consumer\n",
    "* DoubleBinaryOperator\n",
    "* DoubleConsumer\n",
    "* DoubleFunction\n",
    "* DoublePredicate\n",
    "* DoubleSupplier\n",
    "* DoubleToIntFunction\n",
    "* DoubleToLongFunction\n",
    "* DoubleUnaryOperator\n",
    "* Function\n",
    "* IntBinaryOperator\n",
    "* IntConsumer\n",
    "* IntFunction\n",
    "* IntPredicate\n",
    "* IntSupplier\n",
    "* IntToDoubleFunction\n",
    "* IntToLongFunction\n",
    "* IntUnaryOperator\n",
    "* LongBinaryOperator\n",
    "* LongConsumer\n",
    "* LongFunction\n",
    "* LongPredicate\n",
    "* LongSupplier\n",
    "* LongToDoubleFunction\n",
    "* LongToIntFunction\n",
    "* LongUnaryOperator\n",
    "* ObjDoubleConsumer\n",
    "* ObjIntConsumer\n",
    "* ObjLongConsumer\n",
    "* Predicate\n",
    "* Supplier\n",
    "* ToDoubleBiFunction\n",
    "* ToDoubleFunction\n",
    "* ToIntBiFunction\n",
    "* ToIntFunction\n",
    "* ToLongBiFunction\n",
    "* ToLongFunction\n",
    "* UnaryOperator"
   ]
  },
  {
   "cell_type": "markdown",
   "metadata": {},
   "source": [
    "# Predicate\n",
    "## A predicate is seen as a property that a subject has or is characterized by. A predicate is therefore an expression that can be true of something. Thus, the expression \"is moving\" is true of anything that is moving."
   ]
  },
  {
   "cell_type": "code",
   "execution_count": 32,
   "metadata": {},
   "outputs": [],
   "source": [
    "@FunctionalInterface\n",
    "public interface PredicateHumanMade<T> {\n",
    "     boolean test(T t);\n",
    "}"
   ]
  },
  {
   "cell_type": "markdown",
   "metadata": {},
   "source": [
    "## Is number less than 100 predicate"
   ]
  },
  {
   "cell_type": "code",
   "execution_count": 33,
   "metadata": {},
   "outputs": [],
   "source": [
    "PredicateHumanMade<Integer> lessThan100 = i -> (i<100);"
   ]
  },
  {
   "cell_type": "code",
   "execution_count": 34,
   "metadata": {},
   "outputs": [
    {
     "name": "stdout",
     "output_type": "stream",
     "text": [
      "false\n"
     ]
    }
   ],
   "source": [
    "System.out.println(lessThan100.test(700));"
   ]
  },
  {
   "cell_type": "markdown",
   "metadata": {},
   "source": [
    "## Count of humans with age less than "
   ]
  },
  {
   "cell_type": "code",
   "execution_count": 35,
   "metadata": {},
   "outputs": [
    {
     "name": "stdout",
     "output_type": "stream",
     "text": [
      "Sample dataset:\n",
      "\n",
      "  {\n",
      "    \"id\": 1,\n",
      "    \"first_name\": \"Umberto\",\n",
      "    \"last_name\": \"Rimes\",\n",
      "    \"email\": \"urimes0@prnewswire.com\",\n",
      "    \"gender\": \"Male\",\n",
      "    \"age\": 51,\n",
      "    \"city\": \"Bumpe\",\n",
      "  }\n",
      "  {\n",
      "    \"id\": 2,\n",
      "    \"first_name\": \"Lock\",\n",
      "    \"last_name\": \"Maryman\",\n",
      "    \"email\": \"lmaryman1@ameblo.jp\",\n",
      "    \"gender\": \"Male\",\n",
      "    \"age\": 7,\n",
      "    \"city\": \"Jiamiao\",\n",
      "  }\n"
     ]
    }
   ],
   "source": [
    "humans = getHumans();\n",
    "System.out.println(\"Sample dataset:\\n\");\n",
    "printHumans(humans,2);"
   ]
  },
  {
   "cell_type": "code",
   "execution_count": 36,
   "metadata": {},
   "outputs": [
    {
     "name": "stdout",
     "output_type": "stream",
     "text": [
      "96\n"
     ]
    }
   ],
   "source": [
    "PredicateHumanMade<Integer> ageLessThan10 = i -> (i < 10);\n",
    "\n",
    "long count = humans.stream()\n",
    "                   .filter(h -> ageLessThan10.test(h.getAge()))\n",
    "                   .count();\n",
    "\n",
    "System.out.println(count);"
   ]
  },
  {
   "cell_type": "markdown",
   "metadata": {},
   "source": [
    "## Java 8 Predicate"
   ]
  },
  {
   "cell_type": "code",
   "execution_count": 37,
   "metadata": {},
   "outputs": [],
   "source": [
    "import java.util.function.Predicate;"
   ]
  },
  {
   "cell_type": "markdown",
   "metadata": {},
   "source": [
    "## Cities that starts with A"
   ]
  },
  {
   "cell_type": "code",
   "execution_count": 38,
   "metadata": {},
   "outputs": [],
   "source": [
    "Predicate<String> cityStartsWithA = city -> city.startsWith(\"A\");"
   ]
  },
  {
   "cell_type": "code",
   "execution_count": 39,
   "metadata": {},
   "outputs": [],
   "source": [
    "List<String> cityNameStartsWithA = humans.stream()\n",
    "                                         .filter(h -> cityStartsWithA.test(h.getCity()))\n",
    "                                         .map(Humans::getCity)\n",
    "                                         .distinct()\n",
    "                                         .collect(Collectors.toList());"
   ]
  },
  {
   "cell_type": "code",
   "execution_count": 40,
   "metadata": {},
   "outputs": [
    {
     "name": "stdout",
     "output_type": "stream",
     "text": [
      "[Acevedo, Argostólion, Angelochóri, Aoyang, Anding, Ansan-si, Al Jīb, Abbottābād, Artjärvi, Ancenis, Arroyo Naranjo, Andalan, Aloja, Almaguer North, Arras, Abakan, Abreu e Lima, Akhtarīn, Amherst, Anseong, Angra dos Reis, Al Misrākh, Aemura, Agrínio, Azteca, Azueira, Atlanta, Atbasar, Arrabal, Aleksotas, Angkahgede, Anjirserapat, Angers, Abaetetuba, Alvesta, Aoluguya Ewenke Minzu, Aco, Alua, Anle]\n"
     ]
    }
   ],
   "source": [
    "System.out.println(cityNameStartsWithA);"
   ]
  },
  {
   "cell_type": "markdown",
   "metadata": {},
   "source": [
    "## Cites that starts with A and is having the length 5"
   ]
  },
  {
   "cell_type": "code",
   "execution_count": 41,
   "metadata": {},
   "outputs": [],
   "source": [
    "Predicate<String> cityStartsWithAFiveLetters = city -> (city.startsWith(\"A\") && city.length()==5);"
   ]
  },
  {
   "cell_type": "code",
   "execution_count": 42,
   "metadata": {},
   "outputs": [],
   "source": [
    "List<String> cityNameStartsWithAFiveLetters = humans.stream()\n",
    "                                                    .filter(h -> cityStartsWithAFiveLetters.test(h.getCity()))\n",
    "                                                    .map(Humans::getCity)\n",
    "                                                    .distinct()\n",
    "                                                    .collect(Collectors.toList());"
   ]
  },
  {
   "cell_type": "code",
   "execution_count": 43,
   "metadata": {},
   "outputs": [
    {
     "name": "stdout",
     "output_type": "stream",
     "text": [
      "[Aloja, Arras]\n"
     ]
    }
   ],
   "source": [
    "System.out.println(cityNameStartsWithAFiveLetters);"
   ]
  },
  {
   "cell_type": "markdown",
   "metadata": {},
   "source": [
    "# Supplier\n",
    "## A supplier is a person, organization, or other entity that provides something that another person, organization, or entity needs."
   ]
  },
  {
   "cell_type": "code",
   "execution_count": 44,
   "metadata": {},
   "outputs": [],
   "source": [
    "@FunctionalInterface\n",
    "public interface SupplierHumanMade<T> {\n",
    "    T get();\n",
    "}"
   ]
  },
  {
   "cell_type": "markdown",
   "metadata": {},
   "source": [
    "## Give me a supplier of cities"
   ]
  },
  {
   "cell_type": "code",
   "execution_count": 45,
   "metadata": {},
   "outputs": [
    {
     "name": "stdout",
     "output_type": "stream",
     "text": [
      "Sample dataset:\n",
      "\n",
      "  {\n",
      "    \"id\": 1,\n",
      "    \"first_name\": \"Umberto\",\n",
      "    \"last_name\": \"Rimes\",\n",
      "    \"email\": \"urimes0@prnewswire.com\",\n",
      "    \"gender\": \"Male\",\n",
      "    \"age\": 51,\n",
      "    \"city\": \"Bumpe\",\n",
      "  }\n",
      "  {\n",
      "    \"id\": 2,\n",
      "    \"first_name\": \"Lock\",\n",
      "    \"last_name\": \"Maryman\",\n",
      "    \"email\": \"lmaryman1@ameblo.jp\",\n",
      "    \"gender\": \"Male\",\n",
      "    \"age\": 7,\n",
      "    \"city\": \"Jiamiao\",\n",
      "  }\n"
     ]
    }
   ],
   "source": [
    "import java.util.Random;\n",
    "import java.util.concurrent.ThreadLocalRandom;\n",
    "import java.util.function.DoubleSupplier;\n",
    "import java.util.function.Supplier;\n",
    "\n",
    "humans = getHumans();\n",
    "System.out.println(\"Sample dataset:\\n\");\n",
    "printHumans(humans,2);"
   ]
  },
  {
   "cell_type": "code",
   "execution_count": 46,
   "metadata": {},
   "outputs": [],
   "source": [
    "List<String> cities = humans.stream()\n",
    "                            .map(h -> h.getCity() == null ? \"NA\" : h.getCity())\n",
    "                            .collect(Collectors.toList());"
   ]
  },
  {
   "cell_type": "markdown",
   "metadata": {},
   "source": [
    "## Function that gives a random city from the list of cities"
   ]
  },
  {
   "cell_type": "code",
   "execution_count": 47,
   "metadata": {},
   "outputs": [],
   "source": [
    "private String getCities() {\n",
    "    int index = ThreadLocalRandom.current().nextInt(cities.size());\n",
    "    return cities.get(index);\n",
    "}"
   ]
  },
  {
   "cell_type": "code",
   "execution_count": 48,
   "metadata": {},
   "outputs": [
    {
     "name": "stdout",
     "output_type": "stream",
     "text": [
      "Cities\n",
      "---------------------\n",
      "Sangzhen\n",
      "Shabel’skoye\n",
      "Likasi\n",
      "Glatik\n",
      "Soest\n",
      "Krajan Karangwage\n",
      "Dengok\n",
      "Lederaba\n",
      "Angra dos Reis\n",
      "Vilya\n"
     ]
    }
   ],
   "source": [
    "System.out.println(\"Cities\\n---------------------\");\n",
    "\n",
    "SupplierHumanMade<String> humanMadeCitiesSupplier = () -> getCities();\n",
    "\n",
    "for (int i = 0; i < 10; i++)\n",
    "    System.out.println(humanMadeCitiesSupplier.get());"
   ]
  },
  {
   "cell_type": "markdown",
   "metadata": {},
   "source": [
    "## Now similarly give me a supplier of skills"
   ]
  },
  {
   "cell_type": "code",
   "execution_count": 49,
   "metadata": {},
   "outputs": [
    {
     "ename": "EvalException",
     "evalue": "null",
     "output_type": "error",
     "traceback": [
      "\u001b[1m\u001b[31m---------------------------------------------------------------------------\u001b[0m",
      "\u001b[1m\u001b[31mjava.lang.NullPointerException: null\u001b[0m",
      "\u001b[1m\u001b[31m\tat .(#89:1)\u001b[0m"
     ]
    }
   ],
   "source": [
    "List<String> skills = humans.stream()\n",
    "                            .map(h -> h.getSkills() == null ? \"NA\" : h.getSkills())\n",
    "                            .collect(Collectors.toList());"
   ]
  },
  {
   "cell_type": "code",
   "execution_count": 50,
   "metadata": {},
   "outputs": [],
   "source": [
    "private String getSkils() {\n",
    "    int index = ThreadLocalRandom.current().nextInt(cities.size());\n",
    "    return skills.get(index);\n",
    "}"
   ]
  },
  {
   "cell_type": "code",
   "execution_count": 51,
   "metadata": {},
   "outputs": [
    {
     "name": "stdout",
     "output_type": "stream",
     "text": [
      "\n",
      "Skills\n",
      "---------------------\n"
     ]
    },
    {
     "ename": "EvalException",
     "evalue": "null",
     "output_type": "error",
     "traceback": [
      "\u001b[1m\u001b[31m---------------------------------------------------------------------------\u001b[0m",
      "\u001b[1m\u001b[31mjava.lang.NullPointerException: null\u001b[0m",
      "\u001b[1m\u001b[31m\tat .getSkils(#90:3)\u001b[0m",
      "\u001b[1m\u001b[31m\tat .lambda$do_it$$0(#92:1)\u001b[0m",
      "\u001b[1m\u001b[31m\tat .(#93:1)\u001b[0m"
     ]
    }
   ],
   "source": [
    "System.out.println(\"\\nSkills\\n---------------------\");\n",
    "\n",
    "Supplier<String> skillsSupplier = () -> getSkils();\n",
    "for (int i = 0; i < 10; i++)\n",
    "    System.out.println(skillsSupplier.get());"
   ]
  },
  {
   "cell_type": "markdown",
   "metadata": {},
   "source": [
    "## Now give me a supplier of doubles"
   ]
  },
  {
   "cell_type": "code",
   "execution_count": 52,
   "metadata": {},
   "outputs": [
    {
     "name": "stdout",
     "output_type": "stream",
     "text": [
      "\n",
      "Double Supplier\n",
      "---------------------\n",
      "0.7870879463627198\n"
     ]
    }
   ],
   "source": [
    "System.out.println(\"\\nDouble Supplier\\n---------------------\");\n",
    "DoubleSupplier supplier = () -> Math.random();\n",
    "System.out.println(supplier.getAsDouble());"
   ]
  },
  {
   "cell_type": "markdown",
   "metadata": {},
   "source": [
    "## Give me a supplier of random number between 1 - 10"
   ]
  },
  {
   "cell_type": "code",
   "execution_count": 53,
   "metadata": {},
   "outputs": [],
   "source": [
    "Supplier<Integer> randomNumbersSupp=() -> new Random().nextInt(10);"
   ]
  },
  {
   "cell_type": "code",
   "execution_count": 54,
   "metadata": {},
   "outputs": [
    {
     "name": "stdout",
     "output_type": "stream",
     "text": [
      "\n",
      "5 random integer between 1 and 10\n",
      "---------------------\n",
      "7\n",
      "7\n",
      "3\n",
      "5\n",
      "7\n"
     ]
    }
   ],
   "source": [
    "System.out.println(\"\\n5 random integer between 1 and 10\\n---------------------\");\n",
    "Stream.generate(randomNumbersSupp)\n",
    "                .limit(5)\n",
    "                .forEach(System.out::println);"
   ]
  },
  {
   "cell_type": "markdown",
   "metadata": {},
   "source": [
    "# Consumer\n",
    "## The consumer is an individual who pays some amount of money for the thing required to consume goods and services."
   ]
  },
  {
   "cell_type": "markdown",
   "metadata": {},
   "source": [
    "## Lets build our own counsumer"
   ]
  },
  {
   "cell_type": "code",
   "execution_count": null,
   "metadata": {},
   "outputs": [],
   "source": []
  },
  {
   "cell_type": "markdown",
   "metadata": {},
   "source": [
    "## Give me a counsumer that prints a integer."
   ]
  },
  {
   "cell_type": "code",
   "execution_count": 55,
   "metadata": {},
   "outputs": [],
   "source": [
    "private void doSomethingWithInteger(Integer i) {\n",
    "    System.out.println(i);\n",
    "}"
   ]
  },
  {
   "cell_type": "code",
   "execution_count": 56,
   "metadata": {},
   "outputs": [
    {
     "ename": "CompilationException",
     "evalue": "",
     "output_type": "error",
     "traceback": [
      "\u001b[1m\u001b[30m|   \u001b[1m\u001b[30m\u001b[0m\u001b[1m\u001b[30m\u001b[41mConsumer\u001b[0m\u001b[1m\u001b[30m<Integer> consumer = i -> doSomethingWithInteger(i);\u001b[0m",
      "\u001b[1m\u001b[31mcannot find symbol\u001b[0m",
      "\u001b[1m\u001b[31m  symbol:   class Consumer\u001b[0m",
      ""
     ]
    }
   ],
   "source": [
    "Consumer<Integer> consumer = i -> doSomethingWithInteger(i);"
   ]
  },
  {
   "cell_type": "code",
   "execution_count": 57,
   "metadata": {},
   "outputs": [
    {
     "name": "stdout",
     "output_type": "stream",
     "text": [
      "Do something with integer i:\n",
      "--------------\n"
     ]
    },
    {
     "ename": "CompilationException",
     "evalue": "",
     "output_type": "error",
     "traceback": [
      "\u001b[1m\u001b[30m|   \u001b[1m\u001b[30m\u001b[0m\u001b[1m\u001b[30m\u001b[41mconsumer\u001b[0m\u001b[1m\u001b[30m.accept(10);\u001b[0m",
      "\u001b[1m\u001b[31mcannot find symbol\u001b[0m",
      "\u001b[1m\u001b[31m  symbol:   variable consumer\u001b[0m",
      ""
     ]
    }
   ],
   "source": [
    "System.out.println(\"Do something with integer i:\\n--------------\");\n",
    "consumer.accept(10);"
   ]
  },
  {
   "cell_type": "markdown",
   "metadata": {},
   "source": [
    "## Counsumer that prints name given to it in uppercase."
   ]
  },
  {
   "cell_type": "code",
   "execution_count": 58,
   "metadata": {},
   "outputs": [],
   "source": [
    "import java.util.function.Consumer;\n",
    "@FunctionalInterface\n",
    "public interface CounsumerHumanMade<T> {\n",
    "    void accept(T t);\n",
    "}"
   ]
  },
  {
   "cell_type": "code",
   "execution_count": 59,
   "metadata": {},
   "outputs": [
    {
     "name": "stdout",
     "output_type": "stream",
     "text": [
      "Printing string in uppercase:\n",
      "--------------\n",
      "HONEY\n"
     ]
    }
   ],
   "source": [
    "System.out.println(\"Printing string in uppercase:\\n--------------\");\n",
    "CounsumerHumanMade<String> counsumerHumanMade = name -> System.out.println(name.toUpperCase());\n",
    "counsumerHumanMade.accept(\"Honey\");"
   ]
  },
  {
   "cell_type": "code",
   "execution_count": 60,
   "metadata": {},
   "outputs": [
    {
     "name": "stdout",
     "output_type": "stream",
     "text": [
      "Sample dataset:\n",
      "\n",
      "  {\n",
      "    \"id\": 1,\n",
      "    \"first_name\": \"Umberto\",\n",
      "    \"last_name\": \"Rimes\",\n",
      "    \"email\": \"urimes0@prnewswire.com\",\n",
      "    \"gender\": \"Male\",\n",
      "    \"age\": 51,\n",
      "    \"city\": \"Bumpe\",\n",
      "  }\n"
     ]
    }
   ],
   "source": [
    "humans = getHumans();\n",
    "System.out.println(\"Sample dataset:\\n\");\n",
    "printHumans(humans,1);"
   ]
  },
  {
   "cell_type": "markdown",
   "metadata": {},
   "source": [
    "## Mutate the city of the counsumer to Delhi"
   ]
  },
  {
   "cell_type": "code",
   "execution_count": 61,
   "metadata": {},
   "outputs": [],
   "source": [
    "private void changeCityToDelhi(Humans human) {\n",
    "    human.setCity(\"Delhi\");\n",
    "}"
   ]
  },
  {
   "cell_type": "code",
   "execution_count": 62,
   "metadata": {},
   "outputs": [
    {
     "data": {
      "text/plain": [
       "  {\n",
       "    \"id\": 1,\n",
       "    \"first_name\": \"Umberto\",\n",
       "    \"last_name\": \"Rimes\",\n",
       "    \"email\": \"urimes0@prnewswire.com\",\n",
       "    \"gender\": \"Male\",\n",
       "    \"age\": 51,\n",
       "    \"city\": \"Bumpe\",\n",
       "  }"
      ]
     },
     "execution_count": 62,
     "metadata": {},
     "output_type": "execute_result"
    }
   ],
   "source": [
    "Humans human = humans.get(0);\n",
    "human"
   ]
  },
  {
   "cell_type": "code",
   "execution_count": 63,
   "metadata": {},
   "outputs": [
    {
     "name": "stdout",
     "output_type": "stream",
     "text": [
      "Mutating human: \n",
      "--------------\n",
      "  {\n",
      "    \"id\": 1,\n",
      "    \"first_name\": \"Umberto\",\n",
      "    \"last_name\": \"Rimes\",\n",
      "    \"email\": \"urimes0@prnewswire.com\",\n",
      "    \"gender\": \"Male\",\n",
      "    \"age\": 51,\n",
      "    \"city\": \"Delhi\",\n",
      "  }\n"
     ]
    }
   ],
   "source": [
    "Consumer<Humans> changeCity = (h) -> changeCityToDelhi(h);\n",
    "changeCity.accept(human);\n",
    "System.out.println(\"Mutating human: \\n--------------\");\n",
    "System.out.println(human);"
   ]
  },
  {
   "cell_type": "markdown",
   "metadata": {},
   "source": [
    "# Function\n",
    "## Function, in mathematics, an expression, rule, or law that defines a relationship between one variable (the independent variable) and another variable (the dependent variable). Functions are ubiquitous in mathematics and are essential for formulating physical relationships in the sciences."
   ]
  },
  {
   "cell_type": "markdown",
   "metadata": {},
   "source": [
    "## Given a string return upper case for that string."
   ]
  },
  {
   "cell_type": "markdown",
   "metadata": {},
   "source": [
    "## Mutate human to cat"
   ]
  },
  {
   "cell_type": "code",
   "execution_count": 64,
   "metadata": {},
   "outputs": [],
   "source": [
    "import java.util.function.Function;\n",
    "private static Cat makeCatOutOfHuman(Humans h) {\n",
    "    Cat cat = new Cat(h.getFirst_name(), \"Tiger\", h.getAge());\n",
    "    return cat;\n",
    "}"
   ]
  },
  {
   "cell_type": "code",
   "execution_count": 65,
   "metadata": {},
   "outputs": [],
   "source": [
    "Function<Humans, Cat> humanToCat = h -> makeCatOutOfHuman(h);"
   ]
  },
  {
   "cell_type": "code",
   "execution_count": 66,
   "metadata": {},
   "outputs": [
    {
     "name": "stdout",
     "output_type": "stream",
     "text": [
      "\n",
      "Sample dataset:\n",
      "\n",
      "  {\n",
      "    \"id\": 1,\n",
      "    \"first_name\": \"Umberto\",\n",
      "    \"last_name\": \"Rimes\",\n",
      "    \"email\": \"urimes0@prnewswire.com\",\n",
      "    \"gender\": \"Male\",\n",
      "    \"age\": 51,\n",
      "    \"city\": \"Delhi\",\n",
      "  }\n"
     ]
    }
   ],
   "source": [
    "System.out.println(\"\\nSample dataset:\\n\");\n",
    "printHumans(humans,1);"
   ]
  },
  {
   "cell_type": "code",
   "execution_count": 67,
   "metadata": {},
   "outputs": [
    {
     "name": "stdout",
     "output_type": "stream",
     "text": [
      "\n",
      "Mutating human to cat: \n",
      "--------------\n",
      "Cat [name=Umberto, type=Tiger, age=51]\n"
     ]
    }
   ],
   "source": [
    "System.out.println(\"\\nMutating human to cat: \\n--------------\");\n",
    "Cat apply2 = humanToCat.apply(humans.get(0));\n",
    "System.out.println(apply2);"
   ]
  },
  {
   "cell_type": "code",
   "execution_count": 68,
   "metadata": {},
   "outputs": [],
   "source": [
    "private static Integer add5(Integer i) {\n",
    "    return i + 5;\n",
    "}"
   ]
  },
  {
   "cell_type": "code",
   "execution_count": 69,
   "metadata": {},
   "outputs": [
    {
     "name": "stdout",
     "output_type": "stream",
     "text": [
      "\n",
      "Adding 5 function: \n",
      "--------------\n",
      "25\n"
     ]
    }
   ],
   "source": [
    "System.out.println(\"\\nAdding 5 function: \\n--------------\");\n",
    "Function<Integer, Integer> add5Function = i -> add5(i);\n",
    "\n",
    "Integer apply = add5Function.apply(20);\n",
    "System.out.println(apply);"
   ]
  },
  {
   "cell_type": "code",
   "execution_count": 70,
   "metadata": {},
   "outputs": [],
   "source": [
    "@FunctionalInterface\n",
    "public interface FunctionHumanMade<T, R> {\n",
    "    R apply(T t);\n",
    "}"
   ]
  },
  {
   "cell_type": "code",
   "execution_count": 71,
   "metadata": {},
   "outputs": [
    {
     "name": "stdout",
     "output_type": "stream",
     "text": [
      "\n",
      "Mutating string to upper case: \n",
      "--------------\n",
      "HONEY\n"
     ]
    }
   ],
   "source": [
    "private static String toUpperCase(String name) {\n",
    "    return name.toUpperCase();\n",
    "}\n",
    "\n",
    "System.out.println(\"\\nMutating string to upper case: \\n--------------\");\n",
    "FunctionHumanMade<String, String> toUpperCase = (name) -> toUpperCase(name);\n",
    "String apply3 = toUpperCase.apply(\"Honey\");\n",
    "System.out.println(apply3);"
   ]
  },
  {
   "cell_type": "markdown",
   "metadata": {},
   "source": [
    "# Lambda\n",
    "![Lambda](https://images.idgesg.net/images/article/2019/11/jw_lambda_expressions_lambda_symbol_abstract_formulas_and_binary_code_by_monsitj_gettyimages-1047349788_2400x1600-100817057-large.jpg)\n",
    "## Lambda comes from the Lambda Calculus and refers to anonymous functions in programming.\n",
    "\n",
    "## Why is this cool? It allows you to write quick throw away functions without naming them."
   ]
  },
  {
   "cell_type": "markdown",
   "metadata": {},
   "source": [
    "A lambda expression is like a method: it provides a list of formal parameters and a body—an expression or block—expressed in terms of those parameters.\n",
    "\n",
    "Examples of lambda expressions:"
   ]
  },
  {
   "cell_type": "markdown",
   "metadata": {},
   "source": [
    "Examples of lambda expressions:\n",
    "```\n",
    "s -> s.length()\n",
    "\n",
    "(int x, int y) -> x+y\n",
    "\n",
    "() -> 42\n",
    "\n",
    "(x, y, z) -> {\n",
    "  if (true) return x;\n",
    "  else {\n",
    "    int result = y;\n",
    "    for (int i = 1; i < z; i++)\n",
    "      result *= i;\n",
    "    return result;\n",
    "  }\n",
    "}\n",
    "```"
   ]
  },
  {
   "cell_type": "markdown",
   "metadata": {},
   "source": [
    "```\n",
    "Examples of lambda expressions:\n",
    "\n",
    "() -> {}                     // No parameters; result is void\n",
    "\n",
    "() -> 42                     // No parameters, expression body\n",
    "() -> null                   // No parameters, expression body\n",
    "() -> { return 42; }         // No parameters, block body with return\n",
    "() -> { System.gc(); }       // No parameters, void block body\n",
    "\n",
    "() -> {\n",
    "  if (true) return 12;\n",
    "  else {\n",
    "    int result = 15;\n",
    "    for (int i = 1; i < 10; i++)\n",
    "      result *= i;\n",
    "    return result;\n",
    "  }\n",
    "}                          // Complex block body with returns\n",
    "\n",
    "(int x) -> x+1             // Single declared-type parameter\n",
    "(int x) -> { return x+1; } // Single declared-type parameter\n",
    "(x) -> x+1                 // Single inferred-type parameter\n",
    "x -> x+1                   // Parens optional for single inferred-type case\n",
    "\n",
    "(String s) -> s.length()   // Single declared-type parameter\n",
    "(Thread t) -> { t.start(); } // Single declared-type parameter\n",
    "s -> s.length()              // Single inferred-type parameter\n",
    "t -> { t.start(); }          // Single inferred-type parameter\n",
    "\n",
    "(int x, int y) -> x+y      // Multiple declared-type parameters\n",
    "(x,y) -> x+y               // Multiple inferred-type parameters\n",
    "(final int x) -> x+1       // Modified declared-type parameter\n",
    "(x, final y) -> x+y        // Illegal: can't modify inferred-type parameters\n",
    "(x, int y) -> x+y          // Illegal: can't mix inferred and declared types\n",
    "```"
   ]
  },
  {
   "cell_type": "markdown",
   "metadata": {},
   "source": []
  },
  {
   "cell_type": "markdown",
   "metadata": {},
   "source": [
    "# Stream\n",
    "## A stream is a body of water\n",
    "![Stream](https://blog.codefx.org/wp-content/uploads/java-9-stream.jpg)"
   ]
  },
  {
   "cell_type": "markdown",
   "metadata": {},
   "source": [
    "![Stream](https://cdn.shopify.com/s/files/1/0829/4323/products/top_tank_1024x1024_24002499-bf02-4046-9ca8-23824d0db88f_1400x.jpg?v=1556911892)"
   ]
  },
  {
   "cell_type": "markdown",
   "metadata": {},
   "source": [
    "![Tap](https://lh3.ggpht.com/-7yKVEt1YC58/UB0OTxsaIQI/AAAAAAAAbRQ/DqRZbQ785IM/magic-founain-6%25255B2%25255D.jpg?imgmax=800)"
   ]
  },
  {
   "cell_type": "markdown",
   "metadata": {},
   "source": [
    "## Ways to create a stream"
   ]
  },
  {
   "cell_type": "code",
   "execution_count": 72,
   "metadata": {},
   "outputs": [
    {
     "name": "stdout",
     "output_type": "stream",
     "text": [
      "1,2,3,4,5,6,7,8,9\n"
     ]
    }
   ],
   "source": [
    "Stream<Integer> stream = Stream.of(1, 2, 3, 4, 5, 6, 7, 8, 9);\n",
    "System.out.println(stream.map(String::valueOf).collect(Collectors.joining(\",\")));"
   ]
  },
  {
   "cell_type": "code",
   "execution_count": 73,
   "metadata": {},
   "outputs": [
    {
     "name": "stdout",
     "output_type": "stream",
     "text": [
      "a,b,c\n"
     ]
    }
   ],
   "source": [
    "String[] arr = new String[] { \"a\", \"b\", \"c\" };\n",
    "Stream<String> streamOfArray = Arrays.stream(arr);\n",
    "System.out.println(streamOfArray.collect(Collectors.joining(\",\")));"
   ]
  },
  {
   "cell_type": "code",
   "execution_count": 74,
   "metadata": {},
   "outputs": [
    {
     "name": "stdout",
     "output_type": "stream",
     "text": [
      "a,b,c,d\n"
     ]
    }
   ],
   "source": [
    "arr = new String[] { \"a\", \"b\", \"c\", \"d\" };\n",
    "Stream<String> streamOfArray_1 = Stream.of(arr);\n",
    "System.out.println(streamOfArray_1.collect(Collectors.joining(\",\")));"
   ]
  },
  {
   "cell_type": "code",
   "execution_count": 75,
   "metadata": {},
   "outputs": [
    {
     "name": "stdout",
     "output_type": "stream",
     "text": [
      "\n"
     ]
    }
   ],
   "source": [
    "Stream<String> emptyStream = Stream.empty();\n",
    "System.out.println(emptyStream.collect(Collectors.joining(\",\")));"
   ]
  },
  {
   "cell_type": "code",
   "execution_count": 76,
   "metadata": {},
   "outputs": [
    {
     "name": "stdout",
     "output_type": "stream",
     "text": [
      "a,b,c,d,e\n"
     ]
    }
   ],
   "source": [
    "Stream.Builder<String> builder = Stream.builder();\n",
    "Stream<String> streamUsingBuilder = builder.add(\"a\").add(\"b\").add(\"c\").add(\"d\").add(\"e\").build();\n",
    "System.out.println(streamUsingBuilder.collect(Collectors.joining(\",\")));"
   ]
  },
  {
   "cell_type": "code",
   "execution_count": 77,
   "metadata": {},
   "outputs": [
    {
     "name": "stdout",
     "output_type": "stream",
     "text": [
      "2\n",
      "4\n",
      "16\n",
      "256\n",
      "65536\n"
     ]
    }
   ],
   "source": [
    "Stream.iterate(2, (Integer n) -> n * n).limit(5).forEach(System.out::println);"
   ]
  },
  {
   "cell_type": "code",
   "execution_count": 78,
   "metadata": {},
   "outputs": [
    {
     "name": "stdout",
     "output_type": "stream",
     "text": [
      "0.987702402277686\n",
      "0.2668517922419117\n",
      "0.8081871913326886\n",
      "0.4396221486073637\n",
      "0.3813121467596574\n",
      "0.058787113941224045\n",
      "0.5516664463181026\n",
      "0.9790511660405604\n",
      "0.312506469756341\n",
      "0.6934382548738675\n"
     ]
    }
   ],
   "source": [
    "Stream.generate(Math::random).limit(10).forEach(System.out::println);"
   ]
  },
  {
   "cell_type": "code",
   "execution_count": 79,
   "metadata": {},
   "outputs": [
    {
     "name": "stdout",
     "output_type": "stream",
     "text": [
      "Delhi\n",
      "Dubai\n"
     ]
    }
   ],
   "source": [
    "List<String> list = Arrays.asList(\"Delhi\", \"Vegas\", \"Paris\", \"Mumbai\", \"Dubai\");\n",
    "Pattern p = Pattern.compile(\"^D\");\n",
    "list.stream().filter(p.asPredicate()).forEach(System.out::println);"
   ]
  },
  {
   "cell_type": "code",
   "execution_count": null,
   "metadata": {},
   "outputs": [],
   "source": []
  }
 ],
 "metadata": {
  "kernelspec": {
   "display_name": "Java",
   "language": "java",
   "name": "java"
  },
  "language_info": {
   "codemirror_mode": "java",
   "file_extension": ".jshell",
   "mimetype": "text/x-java-source",
   "name": "Java",
   "pygments_lexer": "java",
   "version": "15.0.1+9-18"
  }
 },
 "nbformat": 4,
 "nbformat_minor": 4
}
