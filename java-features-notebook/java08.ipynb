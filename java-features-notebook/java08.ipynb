{
 "cells": [
  {
   "cell_type": "markdown",
   "metadata": {},
   "source": [
    "## Resources\n",
    "* https://download.oracle.com/otndocs/jcp/lambda-0_9_3-fr-spec/index.html\n",
    "* https://www.oreilly.com/library/view/java-se-8/9780133430202/\n"
   ]
  },
  {
   "cell_type": "code",
   "execution_count": null,
   "metadata": {},
   "outputs": [],
   "source": [
    "public class Humans {\n",
    "    private String car_model;\n",
    "    private String car_model_year;\n",
    "    private String gender;\n",
    "    private Integer age;\n",
    "    private String race;\n",
    "    private String city;\n",
    "    private String last_name;\n",
    "    private String ip_address;\n",
    "    private String skills;\n",
    "    private String password;\n",
    "    private String money;\n",
    "    private String id;\n",
    "    private String department;\n",
    "    private String first_name;\n",
    "    private String job_title;\n",
    "    private String email;\n",
    "    private String car_make;\n",
    "    public String getCar_model() {\n",
    "        return car_model;\n",
    "    }\n",
    "    public void setCar_model(String car_model) {\n",
    "        this.car_model = car_model;\n",
    "    }\n",
    "    public String getCar_model_year() {\n",
    "        return car_model_year;\n",
    "    }\n",
    "    public void setCar_model_year(String car_model_year) {\n",
    "        this.car_model_year = car_model_year;\n",
    "    }\n",
    "    public String getGender() {\n",
    "        return gender;\n",
    "    }\n",
    "    public void setGender(String gender) {\n",
    "        this.gender = gender;\n",
    "    }\n",
    "    public Integer getAge() {\n",
    "        return age;\n",
    "    }\n",
    "    public void setAge(Integer age) {\n",
    "        this.age = age;\n",
    "    }\n",
    "    public String getRace() {\n",
    "        return race;\n",
    "    }\n",
    "    public void setRace(String race) {\n",
    "        this.race = race;\n",
    "    }\n",
    "    public String getCity() {\n",
    "        return city;\n",
    "    }\n",
    "    public void setCity(String city) {\n",
    "        this.city = city;\n",
    "    }\n",
    "    public String getLast_name() {\n",
    "        return last_name;\n",
    "    }\n",
    "    public void setLast_name(String last_name) {\n",
    "        this.last_name = last_name;\n",
    "    }\n",
    "    public String getIp_address() {\n",
    "        return ip_address;\n",
    "    }\n",
    "    public void setIp_address(String ip_address) {\n",
    "        this.ip_address = ip_address;\n",
    "    }\n",
    "    public String getSkills() {\n",
    "        return skills;\n",
    "    }\n",
    "    public void setSkills(String skills) {\n",
    "        this.skills = skills;\n",
    "    }\n",
    "    public String getPassword() {\n",
    "        return password;\n",
    "    }\n",
    "    public void setPassword(String password) {\n",
    "        this.password = password;\n",
    "    }\n",
    "    public String getMoney() {\n",
    "        return money;\n",
    "    }\n",
    "    public void setMoney(String money) {\n",
    "        this.money = money;\n",
    "    }\n",
    "    public String getId() {\n",
    "        return id;\n",
    "    }\n",
    "    public void setId(String id) {\n",
    "        this.id = id;\n",
    "    }\n",
    "    public String getDepartment() {\n",
    "        return department;\n",
    "    }\n",
    "    public void setDepartment(String department) {\n",
    "        this.department = department;\n",
    "    }\n",
    "    public String getFirst_name() {\n",
    "        return first_name;\n",
    "    }\n",
    "    public void setFirst_name(String first_name) {\n",
    "        this.first_name = first_name;\n",
    "    }\n",
    "    public String getJob_title() {\n",
    "        return job_title;\n",
    "    }\n",
    "    public void setJob_title(String job_title) {\n",
    "        this.job_title = job_title;\n",
    "    }\n",
    "    public String getEmail() {\n",
    "        return email;\n",
    "    }\n",
    "    public void setEmail(String email) {\n",
    "        this.email = email;\n",
    "    }\n",
    "    public String getCar_make() {\n",
    "        return car_make;\n",
    "    }\n",
    "    public void setCar_make(String car_make) {\n",
    "        this.car_make = car_make;\n",
    "    }\n",
    "    \n",
    "    @Override\n",
    "    public String toString() {\n",
    "                String toString = \"  {\\n\" + \n",
    "                \"    \\\"id\\\": \"+this.id+\",\\n\" + \n",
    "                \"    \\\"first_name\\\": \\\"\"+this.first_name+\"\\\",\\n\" + \n",
    "                \"    \\\"last_name\\\": \\\"\"+this.last_name+\"\\\",\\n\" + \n",
    "                \"    \\\"email\\\": \\\"\"+this.email+\"\\\",\\n\" + \n",
    "                \"    \\\"gender\\\": \\\"\"+this.gender+\"\\\",\\n\" + \n",
    "                \"    \\\"age\\\": \"+this.age+\",\\n\" + \n",
    "                \"    \\\"city\\\": \\\"\"+this.city+\"\\\",\\n\" + \n",
    "//              \"    \\\"department\\\": \\\"\"+this.department+\"\\\",\\n\" + \n",
    "//              \"    \\\"job_title\\\": \\\"\"+this.job_title+\"\\\",\\n\" + \n",
    "//              \"    \\\"skills\\\": \\\"\"+this.skills+\"\\\",\\n\" + \n",
    "//              \"    \\\"money\\\": \\\"\"+this.money+\"\\\",\\n\" + \n",
    "//              \"    \\\"race\\\": \\\"\"+this.race+\"\\\",\\n\" + \n",
    "//              \"    \\\"password\\\": \\\"\"+this.password+\"\\\",\\n\" + \n",
    "//              \"    \\\"ip_address\\\": \\\"\"+this.ip_address+\"\\\",\\n\" + \n",
    "//              \"    \\\"car_make\\\": \\\"\"+this.car_make+\"\\\",\\n\" + \n",
    "//              \"    \\\"car_model\\\": \\\"\"+this.car_model+\"\\\",\\n\" + \n",
    "//              \"    \\\"car_model_year\\\": \"+this.car_model_year+\"\\n\" + \n",
    "                \"  }\";\n",
    "        \n",
    "        return toString;\n",
    "    }\n",
    "    \n",
    "    @Override\n",
    "    public int hashCode() {\n",
    "        final int prime = 31;\n",
    "        int result = 1;\n",
    "        result = prime * result + ((age == null) ? 0 : age.hashCode());\n",
    "        result = prime * result + ((car_make == null) ? 0 : car_make.hashCode());\n",
    "        result = prime * result + ((car_model == null) ? 0 : car_model.hashCode());\n",
    "        result = prime * result + ((car_model_year == null) ? 0 : car_model_year.hashCode());\n",
    "        result = prime * result + ((city == null) ? 0 : city.hashCode());\n",
    "        result = prime * result + ((department == null) ? 0 : department.hashCode());\n",
    "        result = prime * result + ((email == null) ? 0 : email.hashCode());\n",
    "        result = prime * result + ((first_name == null) ? 0 : first_name.hashCode());\n",
    "        result = prime * result + ((gender == null) ? 0 : gender.hashCode());\n",
    "        result = prime * result + ((id == null) ? 0 : id.hashCode());\n",
    "        result = prime * result + ((ip_address == null) ? 0 : ip_address.hashCode());\n",
    "        result = prime * result + ((job_title == null) ? 0 : job_title.hashCode());\n",
    "        result = prime * result + ((last_name == null) ? 0 : last_name.hashCode());\n",
    "        result = prime * result + ((money == null) ? 0 : money.hashCode());\n",
    "        result = prime * result + ((password == null) ? 0 : password.hashCode());\n",
    "        result = prime * result + ((race == null) ? 0 : race.hashCode());\n",
    "        result = prime * result + ((skills == null) ? 0 : skills.hashCode());\n",
    "        return result;\n",
    "    }\n",
    "    @Override\n",
    "    public boolean equals(Object obj) {\n",
    "        if (this == obj)\n",
    "            return true;\n",
    "        if (obj == null)\n",
    "            return false;\n",
    "        if (getClass() != obj.getClass())\n",
    "            return false;\n",
    "        Humans other = (Humans) obj;\n",
    "        if (age == null) {\n",
    "            if (other.age != null)\n",
    "                return false;\n",
    "        } else if (!age.equals(other.age))\n",
    "            return false;\n",
    "        if (car_make == null) {\n",
    "            if (other.car_make != null)\n",
    "                return false;\n",
    "        } else if (!car_make.equals(other.car_make))\n",
    "            return false;\n",
    "        if (car_model == null) {\n",
    "            if (other.car_model != null)\n",
    "                return false;\n",
    "        } else if (!car_model.equals(other.car_model))\n",
    "            return false;\n",
    "        if (car_model_year == null) {\n",
    "            if (other.car_model_year != null)\n",
    "                return false;\n",
    "        } else if (!car_model_year.equals(other.car_model_year))\n",
    "            return false;\n",
    "        if (city == null) {\n",
    "            if (other.city != null)\n",
    "                return false;\n",
    "        } else if (!city.equals(other.city))\n",
    "            return false;\n",
    "        if (department == null) {\n",
    "            if (other.department != null)\n",
    "                return false;\n",
    "        } else if (!department.equals(other.department))\n",
    "            return false;\n",
    "        if (email == null) {\n",
    "            if (other.email != null)\n",
    "                return false;\n",
    "        } else if (!email.equals(other.email))\n",
    "            return false;\n",
    "        if (first_name == null) {\n",
    "            if (other.first_name != null)\n",
    "                return false;\n",
    "        } else if (!first_name.equals(other.first_name))\n",
    "            return false;\n",
    "        if (gender == null) {\n",
    "            if (other.gender != null)\n",
    "                return false;\n",
    "        } else if (!gender.equals(other.gender))\n",
    "            return false;\n",
    "        if (id == null) {\n",
    "            if (other.id != null)\n",
    "                return false;\n",
    "        } else if (!id.equals(other.id))\n",
    "            return false;\n",
    "        if (ip_address == null) {\n",
    "            if (other.ip_address != null)\n",
    "                return false;\n",
    "        } else if (!ip_address.equals(other.ip_address))\n",
    "            return false;\n",
    "        if (job_title == null) {\n",
    "            if (other.job_title != null)\n",
    "                return false;\n",
    "        } else if (!job_title.equals(other.job_title))\n",
    "            return false;\n",
    "        if (last_name == null) {\n",
    "            if (other.last_name != null)\n",
    "                return false;\n",
    "        } else if (!last_name.equals(other.last_name))\n",
    "            return false;\n",
    "        if (money == null) {\n",
    "            if (other.money != null)\n",
    "                return false;\n",
    "        } else if (!money.equals(other.money))\n",
    "            return false;\n",
    "        if (password == null) {\n",
    "            if (other.password != null)\n",
    "                return false;\n",
    "        } else if (!password.equals(other.password))\n",
    "            return false;\n",
    "        if (race == null) {\n",
    "            if (other.race != null)\n",
    "                return false;\n",
    "        } else if (!race.equals(other.race))\n",
    "            return false;\n",
    "        if (skills == null) {\n",
    "            if (other.skills != null)\n",
    "                return false;\n",
    "        } else if (!skills.equals(other.skills))\n",
    "            return false;\n",
    "        return true;\n",
    "    }\n",
    "}"
   ]
  },
  {
   "cell_type": "code",
   "execution_count": null,
   "metadata": {},
   "outputs": [],
   "source": [
    "public class Cat {\n",
    "    private String name;\n",
    "    private String type;\n",
    "    private Integer age;\n",
    "\n",
    "    @Override\n",
    "    public int hashCode() {\n",
    "        final int prime = 31;\n",
    "        int result = 1;\n",
    "        result = prime * result + ((age == null) ? 0 : age.hashCode());\n",
    "        result = prime * result + ((name == null) ? 0 : name.hashCode());\n",
    "        result = prime * result + ((type == null) ? 0 : type.hashCode());\n",
    "        return result;\n",
    "    }\n",
    "\n",
    "    @Override\n",
    "    public boolean equals(Object obj) {\n",
    "        if (this == obj)\n",
    "            return true;\n",
    "        if (obj == null)\n",
    "            return false;\n",
    "        if (getClass() != obj.getClass())\n",
    "            return false;\n",
    "        Cat other = (Cat) obj;\n",
    "        if (age == null) {\n",
    "            if (other.age != null)\n",
    "                return false;\n",
    "        } else if (!age.equals(other.age))\n",
    "            return false;\n",
    "        if (name == null) {\n",
    "            if (other.name != null)\n",
    "                return false;\n",
    "        } else if (!name.equals(other.name))\n",
    "            return false;\n",
    "        if (type == null) {\n",
    "            if (other.type != null)\n",
    "                return false;\n",
    "        } else if (!type.equals(other.type))\n",
    "            return false;\n",
    "        return true;\n",
    "    }\n",
    "\n",
    "    @Override\n",
    "    public String toString() {\n",
    "        return \"Cat [name=\" + name + \", type=\" + type + \", age=\" + age + \"]\";\n",
    "    }\n",
    "\n",
    "    public Cat(String name, String type, Integer age) {\n",
    "        super();\n",
    "        this.name = name;\n",
    "        this.type = type;\n",
    "        this.age = age;\n",
    "    }\n",
    "}\n"
   ]
  },
  {
   "cell_type": "code",
   "execution_count": null,
   "metadata": {},
   "outputs": [],
   "source": [
    "%%loadFromPOM\n",
    "<dependency>\n",
    "    <groupId>com.google.code.gson</groupId>\n",
    "    <artifactId>gson</artifactId>\n",
    "    <version>2.8.6</version>\n",
    "</dependency>"
   ]
  },
  {
   "cell_type": "code",
   "execution_count": null,
   "metadata": {},
   "outputs": [],
   "source": [
    "import java.io.IOException;\n",
    "import java.io.Reader;\n",
    "import java.nio.file.Files;\n",
    "import java.nio.file.Paths;\n",
    "import java.util.Collections;\n",
    "import java.util.Comparator;\n",
    "import java.util.List;\n",
    "import java.util.stream.Collectors;\n",
    "import java.util.stream.Stream;\n",
    "\n",
    "import com.google.gson.Gson;\n",
    "import com.google.gson.reflect.TypeToken;"
   ]
  },
  {
   "cell_type": "code",
   "execution_count": null,
   "metadata": {},
   "outputs": [],
   "source": [
    "private static final String JSON_FILE = \"/Users/apple/code/github/java/java-features-notebook/humans.json\";"
   ]
  },
  {
   "cell_type": "code",
   "execution_count": null,
   "metadata": {},
   "outputs": [],
   "source": [
    "private static List<Humans> getHumans() throws IOException {\n",
    "    Reader reader = Files.newBufferedReader(Paths.get(JSON_FILE));\n",
    "\n",
    "    List<Humans> humans = new Gson().fromJson(reader, new TypeToken<List<Humans>>() {\n",
    "    }.getType());\n",
    "    reader.close();\n",
    "    return humans;\n",
    "}\n",
    "\n",
    "public static void printHumans(List<Humans> humans, int size){\n",
    "    for(int i = 0 ; i < size ; i++){\n",
    "        System.out.println(humans.get(i));\n",
    "    }\n",
    "}"
   ]
  },
  {
   "cell_type": "markdown",
   "metadata": {},
   "source": [
    "# Lets start, humans are wanderers\n",
    "![Earth](https://earthsky.org/upl/2015/07/earth-from-moon.jpg)"
   ]
  },
  {
   "cell_type": "markdown",
   "metadata": {},
   "source": [
    "We are start dust and lets start a new earth, and we will start creating life with us homo-sapiens"
   ]
  },
  {
   "cell_type": "code",
   "execution_count": null,
   "metadata": {},
   "outputs": [],
   "source": [
    "List<Humans> humans = getHumans();"
   ]
  },
  {
   "cell_type": "code",
   "execution_count": null,
   "metadata": {},
   "outputs": [],
   "source": [
    "humans.size()"
   ]
  },
  {
   "cell_type": "code",
   "execution_count": null,
   "metadata": {},
   "outputs": [],
   "source": [
    "printHumans(humans, 7);"
   ]
  },
  {
   "cell_type": "markdown",
   "metadata": {},
   "source": [
    "#### Now that we have created humans, first thing that comes to our mind is how many femails? \n",
    "#### But wait before that what are their ages?\n",
    "### How we will sort the humans by age?"
   ]
  },
  {
   "cell_type": "markdown",
   "metadata": {},
   "source": [
    "In this world we can define comparators, for sorting.\n",
    "\n",
    "Lets define those!"
   ]
  },
  {
   "cell_type": "code",
   "execution_count": null,
   "metadata": {},
   "outputs": [],
   "source": [
    "Comparator<Humans> ageComparator = new Comparator<>() {\n",
    "    @Override\n",
    "    public int compare(Humans h1, Humans h2) {\n",
    "        return h1.getAge().compareTo(h2.getAge());\n",
    "    }\n",
    "};"
   ]
  },
  {
   "cell_type": "code",
   "execution_count": null,
   "metadata": {},
   "outputs": [],
   "source": [
    "Collections.sort(humans, ageComparator);"
   ]
  },
  {
   "cell_type": "code",
   "execution_count": null,
   "metadata": {},
   "outputs": [],
   "source": [
    "printHumans(humans, 7);"
   ]
  },
  {
   "cell_type": "markdown",
   "metadata": {},
   "source": [
    "#### Since we need to make other species also and we would need many other type of sortings, so is there a better way of comparing and sorting?\n",
    "\n",
    "### Yup there is something called as lambda lets see what it is."
   ]
  },
  {
   "cell_type": "markdown",
   "metadata": {},
   "source": [
    "## Lets restart the world."
   ]
  },
  {
   "cell_type": "code",
   "execution_count": null,
   "metadata": {},
   "outputs": [],
   "source": [
    "humans = getHumans();"
   ]
  },
  {
   "cell_type": "markdown",
   "metadata": {},
   "source": [
    "## Using lambda"
   ]
  },
  {
   "cell_type": "code",
   "execution_count": null,
   "metadata": {},
   "outputs": [],
   "source": [
    "Comparator<Humans> ageComparatorLambda = (Humans h1, Humans h2) -> {\n",
    "    return h1.getAge().compareTo(h2.getAge());\n",
    "};"
   ]
  },
  {
   "cell_type": "code",
   "execution_count": null,
   "metadata": {},
   "outputs": [],
   "source": [
    "Collections.sort(humans, ageComparatorLambda);"
   ]
  },
  {
   "cell_type": "code",
   "execution_count": null,
   "metadata": {},
   "outputs": [],
   "source": [
    "printHumans(humans, 7);"
   ]
  },
  {
   "cell_type": "markdown",
   "metadata": {},
   "source": [
    "## Can we do better?"
   ]
  },
  {
   "cell_type": "code",
   "execution_count": null,
   "metadata": {},
   "outputs": [],
   "source": [
    "humans = getHumans();\n",
    "\n",
    "Comparator<Humans> ageComparatorLambdaTypeInference = (h1, h2) -> {\n",
    "    return h1.getAge().compareTo(h2.getAge());\n",
    "};"
   ]
  },
  {
   "cell_type": "code",
   "execution_count": null,
   "metadata": {},
   "outputs": [],
   "source": [
    "Collections.sort(humans, ageComparatorLambdaTypeInference);"
   ]
  },
  {
   "cell_type": "code",
   "execution_count": null,
   "metadata": {},
   "outputs": [],
   "source": [
    "printHumans(humans, 7);"
   ]
  },
  {
   "cell_type": "markdown",
   "metadata": {},
   "source": [
    "## Can we do better.\n",
    "\n",
    "# Yup\n",
    "\n",
    "## So now there is something called as stream, may be we can use stream instead of collection "
   ]
  },
  {
   "cell_type": "code",
   "execution_count": null,
   "metadata": {},
   "outputs": [],
   "source": [
    "Stream<Humans> sortedHumanStream = humans.stream()\n",
    "                                         .sorted(ageComparatorLambdaTypeInference);"
   ]
  },
  {
   "cell_type": "code",
   "execution_count": null,
   "metadata": {},
   "outputs": [],
   "source": [
    "System.out.println(sortedHumanStream)"
   ]
  },
  {
   "cell_type": "code",
   "execution_count": null,
   "metadata": {},
   "outputs": [],
   "source": [
    "List<Humans> collectedFirst10Humans = sortedHumanStream.limit(10)\n",
    "                                                       .collect(Collectors.toList());"
   ]
  },
  {
   "cell_type": "code",
   "execution_count": null,
   "metadata": {},
   "outputs": [],
   "source": [
    "printHumans(collectedFirst10Humans, 7);"
   ]
  },
  {
   "cell_type": "markdown",
   "metadata": {},
   "source": [
    "# There is still some problem, is there a way to define the comparator in a beautiful way?\n",
    "\n",
    "# Yup"
   ]
  },
  {
   "cell_type": "code",
   "execution_count": null,
   "metadata": {},
   "outputs": [],
   "source": [
    "Stream<Humans> sortedHumansFinal = humans.stream()\n",
    "                                         .sorted(Comparator.comparing(Humans::getAge));"
   ]
  },
  {
   "cell_type": "code",
   "execution_count": null,
   "metadata": {},
   "outputs": [],
   "source": [
    "sortedHumansFinal.limit(10)\n",
    "                 .forEach(System.out::println);"
   ]
  },
  {
   "cell_type": "markdown",
   "metadata": {},
   "source": [
    "## Too much data, I only want to see the age and first name. Is there any way?\n",
    "\n",
    "# Yup"
   ]
  },
  {
   "cell_type": "code",
   "execution_count": null,
   "metadata": {},
   "outputs": [],
   "source": [
    "humans.stream()\n",
    "    .sorted(Comparator.comparing(Humans::getAge))\n",
    "    .map(h -> h.getAge() + \" \" + h.getFirst_name())\n",
    "    .limit(20)\n",
    "    .forEach(System.out::println);"
   ]
  },
  {
   "cell_type": "markdown",
   "metadata": {},
   "source": [
    "## What if I want the max age of humans"
   ]
  },
  {
   "cell_type": "code",
   "execution_count": null,
   "metadata": {},
   "outputs": [],
   "source": [
    "humans.stream()\n",
    "    .sorted(Comparator.comparing(Humans::getAge).reversed())\n",
    "    .map(h -> h.getAge() + \" \" + h.getFirst_name())\n",
    "    .limit(20)\n",
    "    .forEach(System.out::println);"
   ]
  },
  {
   "cell_type": "markdown",
   "metadata": {},
   "source": [
    "## Now you deserver to know that how many femails has been created."
   ]
  },
  {
   "cell_type": "code",
   "execution_count": null,
   "metadata": {},
   "outputs": [],
   "source": [
    "Map<String, Long> humansByGender = humans.stream().collect(Collectors.groupingBy(h -> h.getGender(), Collectors.counting()));"
   ]
  },
  {
   "cell_type": "code",
   "execution_count": null,
   "metadata": {},
   "outputs": [],
   "source": [
    "humansByGender"
   ]
  },
  {
   "cell_type": "markdown",
   "metadata": {},
   "source": [
    "# Questions?\n",
    "## 1 question each human 😜"
   ]
  },
  {
   "cell_type": "code",
   "execution_count": null,
   "metadata": {},
   "outputs": [],
   "source": [
    "IntSummaryStatistics statistics = humans.stream()\n",
    "        .mapToInt(Humans::getAge)\n",
    "        .summaryStatistics();\n",
    "\n",
    "System.out.println(statistics);"
   ]
  },
  {
   "cell_type": "markdown",
   "metadata": {},
   "source": [
    "## What are we going to see:\n",
    "\n",
    "* Functional Interfaces: Provides a definition of functional interfaces, which lambda expressions and method references can be used to instantiate.\n",
    "* Lambda Expressions: Defines the syntax of lambda expressions, including rules for the new kinds of parameter lists and statement lists.\n",
    "* Method References: Defines the syntax of method references."
   ]
  },
  {
   "cell_type": "markdown",
   "metadata": {},
   "source": [
    "# Functional Interfaces:\n",
    "Some functional interface example in java.\n",
    "\n",
    "* BiConsumer\n",
    "* BiFunction\n",
    "* BinaryOperator\n",
    "* BiPredicate\n",
    "* BooleanSupplier\n",
    "* Consumer\n",
    "* DoubleBinaryOperator\n",
    "* DoubleConsumer\n",
    "* DoubleFunction\n",
    "* DoublePredicate\n",
    "* DoubleSupplier\n",
    "* DoubleToIntFunction\n",
    "* DoubleToLongFunction\n",
    "* DoubleUnaryOperator\n",
    "* Function\n",
    "* IntBinaryOperator\n",
    "* IntConsumer\n",
    "* IntFunction\n",
    "* IntPredicate\n",
    "* IntSupplier\n",
    "* IntToDoubleFunction\n",
    "* IntToLongFunction\n",
    "* IntUnaryOperator\n",
    "* LongBinaryOperator\n",
    "* LongConsumer\n",
    "* LongFunction\n",
    "* LongPredicate\n",
    "* LongSupplier\n",
    "* LongToDoubleFunction\n",
    "* LongToIntFunction\n",
    "* LongUnaryOperator\n",
    "* ObjDoubleConsumer\n",
    "* ObjIntConsumer\n",
    "* ObjLongConsumer\n",
    "* Predicate\n",
    "* Supplier\n",
    "* ToDoubleBiFunction\n",
    "* ToDoubleFunction\n",
    "* ToIntBiFunction\n",
    "* ToIntFunction\n",
    "* ToLongBiFunction\n",
    "* ToLongFunction\n",
    "* UnaryOperator"
   ]
  },
  {
   "cell_type": "markdown",
   "metadata": {},
   "source": [
    "# Predicate"
   ]
  },
  {
   "cell_type": "code",
   "execution_count": null,
   "metadata": {},
   "outputs": [],
   "source": [
    "public interface PredicateHumanMade<T> {\n",
    "     boolean test(T t);\n",
    "}"
   ]
  },
  {
   "cell_type": "code",
   "execution_count": null,
   "metadata": {},
   "outputs": [],
   "source": [
    "PredicateHumanMade<Integer> lessThan100 = i -> (i<100);\n",
    "System.out.println(lessThan100.test(7));"
   ]
  },
  {
   "cell_type": "code",
   "execution_count": null,
   "metadata": {},
   "outputs": [],
   "source": [
    "humans = getHumans();\n",
    "System.out.println(\"Sample dataset:\\n\");\n",
    "printHumans(humans,2);"
   ]
  },
  {
   "cell_type": "code",
   "execution_count": null,
   "metadata": {},
   "outputs": [],
   "source": [
    "PredicateHumanMade<Integer> ageLessThan10 = i -> (i < 10);\n",
    "\n",
    "long count = humans.stream()\n",
    "                   .filter(h -> ageLessThan10.test(h.getAge()))\n",
    "                   .count();\n",
    "\n",
    "System.out.println(count);"
   ]
  },
  {
   "cell_type": "code",
   "execution_count": null,
   "metadata": {},
   "outputs": [],
   "source": [
    "import java.util.function.Predicate;"
   ]
  },
  {
   "cell_type": "code",
   "execution_count": null,
   "metadata": {},
   "outputs": [],
   "source": [
    "Predicate<String> cityStartsWithA = city -> city.startsWith(\"A\");"
   ]
  },
  {
   "cell_type": "code",
   "execution_count": null,
   "metadata": {},
   "outputs": [],
   "source": [
    "List<String> cityNameStartsWithA = humans.stream()\n",
    "                                         .filter(h -> cityStartsWithA.test(h.getCity()))\n",
    "                                         .map(Humans::getCity)\n",
    "                                         .distinct()\n",
    "                                         .collect(Collectors.toList());"
   ]
  },
  {
   "cell_type": "code",
   "execution_count": null,
   "metadata": {},
   "outputs": [],
   "source": [
    "System.out.println(cityNameStartsWithA);"
   ]
  },
  {
   "cell_type": "code",
   "execution_count": null,
   "metadata": {},
   "outputs": [],
   "source": [
    "Predicate<String> cityStartsWithAFiveLetters = city -> (city.startsWith(\"A\") && city.length()==5);"
   ]
  },
  {
   "cell_type": "code",
   "execution_count": null,
   "metadata": {},
   "outputs": [],
   "source": [
    "List<String> cityNameStartsWithAFiveLetters = humans.stream()\n",
    "                                                    .filter(h -> cityStartsWithAFiveLetters.test(h.getCity()))\n",
    "                                                    .map(Humans::getCity)\n",
    "                                                    .distinct()\n",
    "                                                    .collect(Collectors.toList());"
   ]
  },
  {
   "cell_type": "code",
   "execution_count": null,
   "metadata": {},
   "outputs": [],
   "source": [
    "System.out.println(cityNameStartsWithAFiveLetters);"
   ]
  },
  {
   "cell_type": "markdown",
   "metadata": {},
   "source": [
    "# Supplier"
   ]
  },
  {
   "cell_type": "code",
   "execution_count": null,
   "metadata": {},
   "outputs": [],
   "source": [
    "@FunctionalInterface\n",
    "public interface SupplierHumanMade<T> {\n",
    "    T get();\n",
    "}"
   ]
  },
  {
   "cell_type": "code",
   "execution_count": null,
   "metadata": {},
   "outputs": [],
   "source": [
    "import java.util.Random;\n",
    "import java.util.concurrent.ThreadLocalRandom;\n",
    "import java.util.function.DoubleSupplier;\n",
    "import java.util.function.Supplier;\n",
    "\n",
    "printHumans(humans,2);"
   ]
  },
  {
   "cell_type": "code",
   "execution_count": null,
   "metadata": {},
   "outputs": [],
   "source": [
    "List<String> cities = humans.stream().map(h -> h.getCity() == null ? \"NA\" : h.getCity()).collect(Collectors.toList());\n",
    "List<String> skills = humans.stream().map(h -> h.getSkills() == null ? \"NA\" : h.getSkills()).collect(Collectors.toList());"
   ]
  },
  {
   "cell_type": "code",
   "execution_count": null,
   "metadata": {},
   "outputs": [],
   "source": [
    "private String getCities() {\n",
    "    int index = ThreadLocalRandom.current().nextInt(cities.size());\n",
    "    return cities.get(index);\n",
    "}"
   ]
  },
  {
   "cell_type": "code",
   "execution_count": null,
   "metadata": {},
   "outputs": [],
   "source": [
    "private String getSkils() {\n",
    "    int index = ThreadLocalRandom.current().nextInt(cities.size());\n",
    "    return skills.get(index);\n",
    "}"
   ]
  },
  {
   "cell_type": "code",
   "execution_count": null,
   "metadata": {},
   "outputs": [],
   "source": [
    "System.out.println(\"Cities\\n---------------------\");\n",
    "SupplierHumanMade<String> humanMade = () -> getCities();\n",
    "for (int i = 0; i < 10; i++)\n",
    "    System.out.println(humanMade.get());"
   ]
  },
  {
   "cell_type": "code",
   "execution_count": null,
   "metadata": {},
   "outputs": [],
   "source": [
    "System.out.println(\"\\nSkills\\n---------------------\");\n",
    "Supplier<String> skillsSupplier = () -> getSkils();\n",
    "for (int i = 0; i < 10; i++)\n",
    "    System.out.println(skillsSupplier.get());"
   ]
  },
  {
   "cell_type": "code",
   "execution_count": null,
   "metadata": {},
   "outputs": [],
   "source": [
    "System.out.println(\"\\nDouble Supplier\\n---------------------\");\n",
    "DoubleSupplier supplier = () -> Math.random();\n",
    "System.out.println(supplier.getAsDouble());"
   ]
  },
  {
   "cell_type": "code",
   "execution_count": null,
   "metadata": {},
   "outputs": [],
   "source": [
    "System.out.println(\"\\n5 random integer between 1 and 10\\n---------------------\");\n",
    "Supplier<Integer> randomNumbersSupp=() -> new Random().nextInt(10);\n",
    "Stream.generate(randomNumbersSupp)\n",
    "                .limit(5)\n",
    "                .forEach(System.out::println);"
   ]
  },
  {
   "cell_type": "markdown",
   "metadata": {},
   "source": [
    "# Consumer"
   ]
  },
  {
   "cell_type": "code",
   "execution_count": null,
   "metadata": {},
   "outputs": [],
   "source": [
    "import java.util.function.Consumer;\n",
    "@FunctionalInterface\n",
    "public interface CounsumerHumanMade<T> {\n",
    "    void accept(T t);\n",
    "}"
   ]
  },
  {
   "cell_type": "code",
   "execution_count": null,
   "metadata": {},
   "outputs": [],
   "source": [
    "private void doSomethingWithInteger(Integer i) {\n",
    "    System.out.println(i);\n",
    "}\n",
    "\n",
    "private void changeCityToDelhi(Humans human) {\n",
    "    human.setCity(\"Delhi\");\n",
    "}"
   ]
  },
  {
   "cell_type": "code",
   "execution_count": null,
   "metadata": {},
   "outputs": [],
   "source": [
    "System.out.println(\"Do something with integer i:\\n--------------\");\n",
    "Consumer<Integer> consumer = (i) -> doSomethingWithInteger(i);\n",
    "consumer.accept(10);"
   ]
  },
  {
   "cell_type": "code",
   "execution_count": null,
   "metadata": {},
   "outputs": [],
   "source": [
    "System.out.println(\"Printing string in uppercase:\\n--------------\");\n",
    "CounsumerHumanMade<String> counsumerHumanMade = name -> System.out.println(name.toUpperCase());\n",
    "counsumerHumanMade.accept(\"Honey\");"
   ]
  },
  {
   "cell_type": "code",
   "execution_count": null,
   "metadata": {},
   "outputs": [],
   "source": [
    "humans = getHumans();\n",
    "System.out.println(\"Sample dataset:\\n\");\n",
    "printHumans(humans,1);"
   ]
  },
  {
   "cell_type": "code",
   "execution_count": null,
   "metadata": {},
   "outputs": [],
   "source": [
    "System.out.println(\"Mutating human: i\\n--------------\");\n",
    "Humans human = humans.get(0);\n",
    "Consumer<Humans> changeCity = (h) -> changeCityToDelhi(h);\n",
    "changeCity.accept(human);\n",
    "System.out.println(human);"
   ]
  },
  {
   "cell_type": "markdown",
   "metadata": {},
   "source": [
    "# Function"
   ]
  },
  {
   "cell_type": "code",
   "execution_count": null,
   "metadata": {},
   "outputs": [],
   "source": [
    "private static String toUpperCase(String name) {\n",
    "    return name.toUpperCase();\n",
    "}"
   ]
  },
  {
   "cell_type": "code",
   "execution_count": null,
   "metadata": {},
   "outputs": [],
   "source": [
    "private static Cat makeCatOutOfHUman(Humans h) {\n",
    "    Cat cat = new Cat(h.getFirst_name(), \"Tiger\", h.getAge());\n",
    "    return cat;\n",
    "}"
   ]
  },
  {
   "cell_type": "code",
   "execution_count": null,
   "metadata": {},
   "outputs": [],
   "source": [
    "private static Integer add5(Integer i) {\n",
    "    return i + 5;\n",
    "}"
   ]
  },
  {
   "cell_type": "code",
   "execution_count": null,
   "metadata": {},
   "outputs": [],
   "source": [
    "import java.util.function.Function;\n",
    "System.out.println(\"\\nAdding 5 dunction: \\n--------------\");\n",
    "Function<Integer, Integer> add5Function = (i) -> add5(i);\n",
    "Integer apply = add5Function.apply(20);\n",
    "System.out.println(apply);"
   ]
  },
  {
   "cell_type": "code",
   "execution_count": null,
   "metadata": {},
   "outputs": [],
   "source": [
    "Function<Humans, Cat> humanToCat = (h) -> makeCatOutOfHUman(h);\n",
    "\n",
    "System.out.println(\"\\nSample dataset:\\n\");\n",
    "printHumans(humans,1);"
   ]
  },
  {
   "cell_type": "code",
   "execution_count": null,
   "metadata": {},
   "outputs": [],
   "source": [
    "System.out.println(\"\\nMutating human to cat: \\n--------------\");\n",
    "Cat apply2 = humanToCat.apply(humans.get(0));\n",
    "System.out.println(apply2);"
   ]
  },
  {
   "cell_type": "code",
   "execution_count": null,
   "metadata": {},
   "outputs": [],
   "source": [
    "@FunctionalInterface\n",
    "public interface FunctionHumanMade<T, R> {\n",
    "    R apply(T t);\n",
    "}"
   ]
  },
  {
   "cell_type": "code",
   "execution_count": null,
   "metadata": {},
   "outputs": [],
   "source": [
    "System.out.println(\"\\nMutating string to upper case: \\n--------------\");\n",
    "FunctionHumanMade<String, String> toUpperCase = (name) -> toUpperCase(name);\n",
    "String apply3 = toUpperCase.apply(\"Honey\");\n",
    "System.out.println(apply3);"
   ]
  },
  {
   "cell_type": "markdown",
   "metadata": {},
   "source": [
    "# Lambda\n",
    "![Lambda](https://images.idgesg.net/images/article/2019/11/jw_lambda_expressions_lambda_symbol_abstract_formulas_and_binary_code_by_monsitj_gettyimages-1047349788_2400x1600-100817057-large.jpg)\n",
    "## Lambda comes from the Lambda Calculus and refers to anonymous functions in programming.\n",
    "\n",
    "## Why is this cool? It allows you to write quick throw away functions without naming them."
   ]
  },
  {
   "cell_type": "markdown",
   "metadata": {},
   "source": [
    "A lambda expression is like a method: it provides a list of formal parameters and a body—an expression or block—expressed in terms of those parameters.\n",
    "\n",
    "Examples of lambda expressions:"
   ]
  },
  {
   "cell_type": "markdown",
   "metadata": {},
   "source": [
    "Examples of lambda expressions:\n",
    "```\n",
    "s -> s.length()\n",
    "\n",
    "(int x, int y) -> x+y\n",
    "\n",
    "() -> 42\n",
    "\n",
    "(x, y, z) -> {\n",
    "  if (true) return x;\n",
    "  else {\n",
    "    int result = y;\n",
    "    for (int i = 1; i < z; i++)\n",
    "      result *= i;\n",
    "    return result;\n",
    "  }\n",
    "}\n",
    "```"
   ]
  },
  {
   "cell_type": "markdown",
   "metadata": {},
   "source": [
    "```\n",
    "Examples of lambda expressions:\n",
    "\n",
    "() -> {}                     // No parameters; result is void\n",
    "\n",
    "() -> 42                     // No parameters, expression body\n",
    "() -> null                   // No parameters, expression body\n",
    "() -> { return 42; }         // No parameters, block body with return\n",
    "() -> { System.gc(); }       // No parameters, void block body\n",
    "\n",
    "() -> {\n",
    "  if (true) return 12;\n",
    "  else {\n",
    "    int result = 15;\n",
    "    for (int i = 1; i < 10; i++)\n",
    "      result *= i;\n",
    "    return result;\n",
    "  }\n",
    "}                          // Complex block body with returns\n",
    "\n",
    "(int x) -> x+1             // Single declared-type parameter\n",
    "(int x) -> { return x+1; } // Single declared-type parameter\n",
    "(x) -> x+1                 // Single inferred-type parameter\n",
    "x -> x+1                   // Parens optional for single inferred-type case\n",
    "\n",
    "(String s) -> s.length()   // Single declared-type parameter\n",
    "(Thread t) -> { t.start(); } // Single declared-type parameter\n",
    "s -> s.length()              // Single inferred-type parameter\n",
    "t -> { t.start(); }          // Single inferred-type parameter\n",
    "\n",
    "(int x, int y) -> x+y      // Multiple declared-type parameters\n",
    "(x,y) -> x+y               // Multiple inferred-type parameters\n",
    "(final int x) -> x+1       // Modified declared-type parameter\n",
    "(x, final y) -> x+y        // Illegal: can't modify inferred-type parameters\n",
    "(x, int y) -> x+y          // Illegal: can't mix inferred and declared types\n",
    "```"
   ]
  },
  {
   "cell_type": "markdown",
   "metadata": {},
   "source": []
  },
  {
   "cell_type": "markdown",
   "metadata": {},
   "source": [
    "# Stream\n",
    "## A stream is a body of water\n",
    "![Stream](https://blog.codefx.org/wp-content/uploads/java-9-stream.jpg)"
   ]
  },
  {
   "cell_type": "markdown",
   "metadata": {},
   "source": [
    "![Stream](https://cdn.shopify.com/s/files/1/0829/4323/products/top_tank_1024x1024_24002499-bf02-4046-9ca8-23824d0db88f_1400x.jpg?v=1556911892)"
   ]
  },
  {
   "cell_type": "markdown",
   "metadata": {},
   "source": [
    "![Tap](https://lh3.ggpht.com/-7yKVEt1YC58/UB0OTxsaIQI/AAAAAAAAbRQ/DqRZbQ785IM/magic-founain-6%25255B2%25255D.jpg?imgmax=800)"
   ]
  },
  {
   "cell_type": "code",
   "execution_count": null,
   "metadata": {},
   "outputs": [],
   "source": [
    "Stream<Integer> stream = Stream.of(1, 2, 3, 4, 5, 6, 7, 8, 9);\n",
    "System.out.println(stream.map(String::valueOf).collect(Collectors.joining(\",\")));"
   ]
  },
  {
   "cell_type": "code",
   "execution_count": null,
   "metadata": {},
   "outputs": [],
   "source": [
    "String[] arr = new String[] { \"a\", \"b\", \"c\" };\n",
    "Stream<String> streamOfArray = Arrays.stream(arr);\n",
    "System.out.println(streamOfArray.collect(Collectors.joining(\",\")));"
   ]
  },
  {
   "cell_type": "code",
   "execution_count": null,
   "metadata": {},
   "outputs": [],
   "source": [
    "arr = new String[] { \"a\", \"b\", \"c\", \"d\" };\n",
    "Stream<String> streamOfArray_1 = Stream.of(arr);\n",
    "System.out.println(streamOfArray_1.collect(Collectors.joining(\",\")));"
   ]
  },
  {
   "cell_type": "code",
   "execution_count": null,
   "metadata": {},
   "outputs": [],
   "source": [
    "Stream<String> emptyStream = Stream.empty();\n",
    "System.out.println(emptyStream.collect(Collectors.joining(\",\")));"
   ]
  },
  {
   "cell_type": "code",
   "execution_count": null,
   "metadata": {},
   "outputs": [],
   "source": [
    "Stream.Builder<String> builder = Stream.builder();\n",
    "Stream<String> streamUsingBuilder = builder.add(\"a\").add(\"b\").add(\"c\").add(\"d\").add(\"e\").build();\n",
    "System.out.println(streamUsingBuilder.collect(Collectors.joining(\",\")));"
   ]
  },
  {
   "cell_type": "code",
   "execution_count": null,
   "metadata": {},
   "outputs": [],
   "source": [
    "Stream.iterate(1, (Integer n) -> n * n).limit(5).forEach(System.out::println);"
   ]
  },
  {
   "cell_type": "code",
   "execution_count": null,
   "metadata": {},
   "outputs": [],
   "source": [
    "Stream.generate(Math::random).limit(10).forEach(System.out::println);"
   ]
  },
  {
   "cell_type": "code",
   "execution_count": null,
   "metadata": {},
   "outputs": [],
   "source": [
    "List<String> list = Arrays.asList(\"Delhi\", \"Vegas\", \"Paris\", \"Mumbai\", \"Dubai\");\n",
    "Pattern p = Pattern.compile(\"^D\");\n",
    "list.stream().filter(p.asPredicate()).forEach(System.out::println);"
   ]
  }
 ],
 "metadata": {
  "kernelspec": {
   "display_name": "Java",
   "language": "java",
   "name": "java"
  },
  "language_info": {
   "codemirror_mode": "java",
   "file_extension": ".jshell",
   "mimetype": "text/x-java-source",
   "name": "Java",
   "pygments_lexer": "java",
   "version": "14.0.1+7"
  }
 },
 "nbformat": 4,
 "nbformat_minor": 4
}
