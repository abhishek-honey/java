{
 "cells": [
  {
   "cell_type": "markdown",
   "metadata": {},
   "source": [
    "# Java 13 Features\n",
    "\n",
    "* 189:\t__[Shenandoah: A Low-Pause-Time Garbage Collector (Experimental)](https://openjdk.java.net/jeps/189)__\n",
    "* 230:\t__[Microbenchmark Suite](https://openjdk.java.net/jeps/230)__\n",
    "* 325:\t__[Switch Expressions (Preview)](https://openjdk.java.net/jeps/325)__\n",
    "* 334:\t__[JVM Constants API](https://openjdk.java.net/jeps/334)__\n",
    "* 340:\t__[One AArch64 Port, Not Two](https://openjdk.java.net/jeps/340)__\n",
    "* 341:\t__[Default CDS Archives](https://openjdk.java.net/jeps/341)__\n",
    "* 344:\t__[Abortable Mixed Collections for G1](https://openjdk.java.net/jeps/344)__\n",
    "* 346:\t__[Promptly Return Unused Committed Memory from G1](https://openjdk.java.net/jeps/346)__"
   ]
  },
  {
   "cell_type": "code",
   "execution_count": null,
   "metadata": {},
   "outputs": [],
   "source": []
  }
 ],
 "metadata": {
  "kernelspec": {
   "display_name": "Java",
   "language": "java",
   "name": "java"
  },
  "language_info": {
   "codemirror_mode": "java",
   "file_extension": ".jshell",
   "mimetype": "text/x-java-source",
   "name": "Java",
   "pygments_lexer": "java",
   "version": "14.0.1+7"
  }
 },
 "nbformat": 4,
 "nbformat_minor": 4
}
