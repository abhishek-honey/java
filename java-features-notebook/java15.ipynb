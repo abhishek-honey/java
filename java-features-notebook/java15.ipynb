{
 "cells": [
  {
   "cell_type": "markdown",
   "metadata": {},
   "source": [
    "# Java 15 Features\n",
    "\n",
    "* 339:\t__[Edwards-Curve Digital Signature Algorithm (EdDSA)](https://openjdk.java.net/jeps/339)__\n",
    "* 360:\t__[Sealed Classes (Preview)](https://openjdk.java.net/jeps/360)__\n",
    "* 371:\t__[Hidden Classes](https://openjdk.java.net/jeps/371)__\n",
    "* 372:\t__[Remove the Nashorn JavaScript Engine](https://openjdk.java.net/jeps/372)__\n",
    "* 373:\t__[Reimplement the Legacy DatagramSocket API](https://openjdk.java.net/jeps/373)__\n",
    "* 374:\t__[Disable and Deprecate Biased Locking](https://openjdk.java.net/jeps/374)__\n",
    "* 375:\t__[Pattern Matching for instanceof (Second Preview)](https://openjdk.java.net/jeps/375)__\n",
    "* 377:\t__[ZGC: A Scalable Low-Latency Garbage Collector](https://openjdk.java.net/jeps/377)__\n",
    "* 378:\t__[Text Blocks](https://openjdk.java.net/jeps/378)__\n",
    "* 379:\t__[Shenandoah: A Low-Pause-Time Garbage Collector](https://openjdk.java.net/jeps/379)__\n",
    "* 381:\t__[Remove the Solaris and SPARC Ports](https://openjdk.java.net/jeps/381)__\n",
    "* 383:\t__[Foreign-Memory Access API (Second Incubator)](https://openjdk.java.net/jeps/383)__\n",
    "* 384:\t__[Records (Second Preview)](https://openjdk.java.net/jeps/384)__\n",
    "* 385:\t__[Deprecate RMI Activation for Removal](https://openjdk.java.net/jeps/385)__"
   ]
  },
  {
   "cell_type": "code",
   "execution_count": null,
   "metadata": {},
   "outputs": [],
   "source": []
  }
 ],
 "metadata": {
  "kernelspec": {
   "display_name": "Java",
   "language": "java",
   "name": "java"
  },
  "language_info": {
   "codemirror_mode": "java",
   "file_extension": ".jshell",
   "mimetype": "text/x-java-source",
   "name": "Java",
   "pygments_lexer": "java",
   "version": "14.0.1+7"
  }
 },
 "nbformat": 4,
 "nbformat_minor": 4
}
